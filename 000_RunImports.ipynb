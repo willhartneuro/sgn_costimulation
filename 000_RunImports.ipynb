{
 "cells": [
  {
   "cell_type": "code",
   "execution_count": null,
   "metadata": {},
   "outputs": [],
   "source": [
    "import sys\n",
    "if sys.version_info[0] < 3 or sys.version_info[1] < 6:\n",
    "    raise Error(\"Python 3.6+ is required\")\n",
    "\n",
    "# IMPORTS\n",
    "\n",
    "from typing import Dict\n",
    "\n",
    "import axographio\n",
    "import bottleneck as bn\n",
    "import numpy as np\n",
    "import pandas as pd\n",
    "import statsmodels.api as sm\n",
    "from statsmodels.stats.multicomp import pairwise_tukeyhsd\n",
    "from statsmodels.stats.libqsturng import psturng\n",
    "from scipy import stats\n",
    "from scipy.signal import find_peaks, peak_widths, butter, lfilter\n",
    "import scipy.optimize as scopt\n",
    "from sklearn.linear_model import LinearRegression\n",
    "import os\n",
    "import matplotlib as mpl\n",
    "import matplotlib.pyplot as plt\n",
    "from mpl_toolkits.axes_grid1.inset_locator import inset_axes\n",
    "import math\n",
    "import quantities as q\n",
    "\n",
    "import seaborn as sns\n",
    "\n",
    "# workaround for new stats names - https://github.com/statsmodels/statsmodels/issues/3931\n",
    "stats.chisqprob = lambda chisq, df: stats.chi2.sf(chisq, df)"
   ]
  },
  {
   "cell_type": "code",
   "execution_count": null,
   "metadata": {},
   "outputs": [],
   "source": [
    "# Load the axograph file list and our definitions\n",
    "%run scripts/files.py\n",
    "%run scripts/definitions.py"
   ]
  },
  {
   "cell_type": "code",
   "execution_count": null,
   "metadata": {},
   "outputs": [],
   "source": [
    "# load the data processing class\n",
    "%run scripts/file_data.py"
   ]
  },
  {
   "cell_type": "code",
   "execution_count": null,
   "metadata": {},
   "outputs": [],
   "source": [
    "# load the helper for drawing scale bars\n",
    "%run scripts/matplotlib_scalebar.py\n",
    "\n",
    "def draw_bars(ax, sizex, labelx, sizey, labely, **kwargs):\n",
    "    \"\"\"Draws scale bars for the given axis\"\"\"\n",
    "    add_scalebar(ax, False, False, True, True, \n",
    "                 sizex=sizex, sizey=sizey, \n",
    "                 labelx=labelx, labely=labely, **kwargs)"
   ]
  },
  {
   "cell_type": "code",
   "execution_count": null,
   "metadata": {},
   "outputs": [],
   "source": [
    "# Constants for graph sizes\n",
    "\n",
    "INCH_TO_CM = 1./2.54\n",
    "GRID_SIZE= 2*(17.6 / 4) * INCH_TO_CM"
   ]
  },
  {
   "cell_type": "code",
   "execution_count": null,
   "metadata": {},
   "outputs": [],
   "source": [
    "mpl.rc(\"figure\", figsize=(GRID_SIZE, GRID_SIZE))\n",
    "sns.set_context(\"paper\", font_scale=2)"
   ]
  },
  {
   "cell_type": "code",
   "execution_count": null,
   "metadata": {},
   "outputs": [],
   "source": []
  }
 ],
 "metadata": {
  "kernelspec": {
   "display_name": "Python 3",
   "language": "python",
   "name": "python3"
  },
  "language_info": {
   "codemirror_mode": {
    "name": "ipython",
    "version": 3
   },
   "file_extension": ".py",
   "mimetype": "text/x-python",
   "name": "python",
   "nbconvert_exporter": "python",
   "pygments_lexer": "ipython3",
   "version": "3.7.4"
  }
 },
 "nbformat": 4,
 "nbformat_minor": 2
}
