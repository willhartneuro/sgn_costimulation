{
 "cells": [
  {
   "cell_type": "code",
   "execution_count": 1,
   "metadata": {},
   "outputs": [],
   "source": [
    "%run \"./000_RunImports.ipynb\"\n",
    "\n",
    "SAMPLES_TO_MS = 1000. / 50000.\n",
    "MS_TO_SAMPLES = 1. / SAMPLES_TO_MS"
   ]
  },
  {
   "cell_type": "code",
   "execution_count": 2,
   "metadata": {
    "scrolled": true
   },
   "outputs": [],
   "source": [
    "# %run \"./001_GenerateData.ipynb\"\n",
    "# %run \"./002_PickleZipData.ipynb\""
   ]
  },
  {
   "cell_type": "code",
   "execution_count": 3,
   "metadata": {},
   "outputs": [],
   "source": [
    "%run \"./003_RestoreDatasFromPickle.ipynb\""
   ]
  },
  {
   "cell_type": "code",
   "execution_count": 4,
   "metadata": {},
   "outputs": [],
   "source": [
    "%run scripts/analysis/analysis.py\n",
    "%run scripts/analysis/spike_results.py\n",
    "%run scripts/time_constants.py"
   ]
  },
  {
   "cell_type": "code",
   "execution_count": 5,
   "metadata": {},
   "outputs": [],
   "source": [
    "costim_blue = (0, 0.43, 0.86)"
   ]
  },
  {
   "cell_type": "code",
   "execution_count": 6,
   "metadata": {
    "scrolled": false
   },
   "outputs": [],
   "source": [
    "runs = list(y for x in datas for y in x.runs)"
   ]
  },
  {
   "cell_type": "code",
   "execution_count": 7,
   "metadata": {},
   "outputs": [],
   "source": [
    "# put into buckets\n",
    "for x in runs:\n",
    "    x.opt_bucket = Analysis.bucket(x.opt_thresh, 5)\n",
    "    x.elec_bucket = Analysis.bucket(x.elec_thresh, 10)"
   ]
  },
  {
   "cell_type": "markdown",
   "metadata": {},
   "source": [
    "> **Consider AP firing probability with the following conditions:**\n",
    "> - Initial voltage within +/- ALLOWED_DELTA (4 by default) of holding voltage\n",
    "> - Offset < 30ms\n",
    "> - No electrical- or optical-only APs\n",
    "> - Opt thresh > 0"
   ]
  },
  {
   "cell_type": "code",
   "execution_count": 8,
   "metadata": {},
   "outputs": [],
   "source": [
    "HOLD = -61 # holding excluding junction potential\n",
    "HOLD_JNC = HOLD + (1000 * d.JNC_POT) # holding including junction potential\n",
    "ALLOWED_DELTA = 4"
   ]
  },
  {
   "cell_type": "code",
   "execution_count": 9,
   "metadata": {},
   "outputs": [
    {
     "name": "stdout",
     "output_type": "stream",
     "text": [
      "Overall 3259 runs were imported\n",
      "--> There were 14 cells\n",
      "--> The cells were [4404 4405 4504 4801 4803 4806 4904 5006 5205 5207 5504 6703 6708 6709]\n"
     ]
    }
   ],
   "source": [
    "print(f\"Overall {len(runs)} runs were imported\")\n",
    "total_cells = np.unique([x.cell for x in runs])\n",
    "print(f\"--> There were {len(total_cells)} cells\")\n",
    "print(f\"--> The cells were {total_cells}\")"
   ]
  },
  {
   "cell_type": "code",
   "execution_count": 10,
   "metadata": {},
   "outputs": [
    {
     "name": "stdout",
     "output_type": "stream",
     "text": [
      "Selected 1053 runs out of 3259\n",
      "Selected 9 cells, 7 with costim APs\n",
      "--> Of these runs 451 or 43% had costim APs\n",
      "--> Selected cells include [4405 4504 4801 4803 4904 5504 6703 6708 6709]\n",
      "--> Excluded cells were [4404, 4806, 5006, 5205, 5207]\n"
     ]
    }
   ],
   "source": [
    "# data suitable for single spike costimulation analysis\n",
    "# - correct holding voltage, \n",
    "# - no opt/elec standalone APs on the run,\n",
    "# - 0-100% exclusive powers\n",
    "selected_data = [\n",
    "    run for run in runs if Analysis.costim_selector(\n",
    "        run,\n",
    "        HOLD_JNC - ALLOWED_DELTA,\n",
    "        HOLD_JNC + ALLOWED_DELTA\n",
    "    )]\n",
    "\n",
    "# data with a good holding voltage and optical power between 0 and 150%\n",
    "valid_data = [\n",
    "    run for run in runs if Analysis.valid_data_selector(\n",
    "        run,\n",
    "        HOLD_JNC - ALLOWED_DELTA,\n",
    "        HOLD_JNC + ALLOWED_DELTA\n",
    "    )]\n",
    "\n",
    "selected_cells = len(set([x.cell for x in selected_data]))\n",
    "\n",
    "costim_aps = [x for x in selected_data if x.costim_aps == 1]\n",
    "costim_cells = len(set([x.cell for x in costim_aps]))\n",
    "\n",
    "print(f\"Selected {len(selected_data)} runs out of {len(runs)}\")\n",
    "print(f\"Selected {selected_cells} cells, {costim_cells} with costim APs\")\n",
    "print(f\"--> Of these runs {len(costim_aps)} or {100. * len(costim_aps) / len(selected_data):.0f}% had costim APs\")\n",
    "print(f\"--> Selected cells include {np.unique([x.cell for x in selected_data])}\")\n",
    "print(f\"--> Excluded cells were {[x for x in total_cells if x not in [x.cell for x in selected_data]]}\")"
   ]
  },
  {
   "cell_type": "code",
   "execution_count": 11,
   "metadata": {
    "scrolled": false
   },
   "outputs": [
    {
     "name": "stderr",
     "output_type": "stream",
     "text": [
      "D:\\Tools\\Anaconda\\lib\\site-packages\\numpy\\core\\_methods.py:140: RuntimeWarning: Degrees of freedom <= 0 for slice\n",
      "  keepdims=keepdims)\n",
      "D:\\Tools\\Anaconda\\lib\\site-packages\\numpy\\core\\_methods.py:132: RuntimeWarning: invalid value encountered in double_scalars\n",
      "  ret = ret.dtype.type(ret / rcount)\n"
     ]
    }
   ],
   "source": [
    "spikes = SpikeResults.get_spikes(selected_data) # use selected_data not costim_aps as we want no APs too\n",
    "spike_dict = { 'Optical' : [], 'Electrical': [], 'Offset': [], 'Costim': [] }\n",
    "\n",
    "for opt in spikes.keys():\n",
    "    for elec in spikes[opt].keys():\n",
    "        for off in spikes[opt][elec].keys():\n",
    "            dat = spikes[opt][elec][off]\n",
    "            spike_dict['Optical'].append(opt)\n",
    "            spike_dict['Electrical'].append(elec)\n",
    "            spike_dict['Offset'].append(off)\n",
    "            spike_dict['Costim'].append(dat.costim())\n",
    "\n",
    "spike_df = pd.DataFrame(spike_dict)\n",
    "spike_df_metrics = spike_df.groupby(['Offset'])['Costim'].agg([np.mean, stats.sem]).dropna().reset_index()\n",
    "\n",
    "\n",
    "# find points above the costimulation threshold (only consider points with offset >= 0, otherwise this isn't costim)\n",
    "firing_avg_df = spike_df[spike_df['Offset'] >= 0].groupby(['Optical', 'Electrical'])['Costim'].agg(np.mean).reset_index()\n",
    "firing_avg_above_50_df = firing_avg_df[firing_avg_df['Costim'] > 50.]\n",
    "above_threshold_parameters = [tuple(x) for x in firing_avg_above_50_df[['Optical', 'Electrical']].values]"
   ]
  },
  {
   "cell_type": "code",
   "execution_count": 12,
   "metadata": {},
   "outputs": [
    {
     "name": "stdout",
     "output_type": "stream",
     "text": [
      "Mean optical threshold 2008, +/- SEM 85\n",
      "Mean laser power 10.3 +/- 3.4 mW (SEM)\n",
      "Mean electrical threshold 176 +/- 13 pA (SEM)\n"
     ]
    }
   ],
   "source": [
    "# Get average optical threshold value\n",
    "opt_thresh = [x[d.C_OPT] for x in CELLS if x[1] > 1750] # constraint to above nonzero linear region due to power meter restrictions\n",
    "elec_thresh = [x[d.C_ELC] for x in CELLS]\n",
    "mean_laser_thresh = np.mean(opt_thresh)\n",
    "mean_laser_thresh_sem = stats.sem(opt_thresh)\n",
    "print(f\"Mean optical threshold {mean_laser_thresh:.0f}, +/- SEM {mean_laser_thresh_sem:.0f}\")\n",
    "\n",
    "# Find the equivalent mW values from the laser calibration curve\n",
    "dacs = [\n",
    "    1650, 1700, 1750, 1800, 1850, 1900, 1950, 2000, 2050, 2100, 2150, 2200, 2250,\n",
    "    2300, 2350, 2400, 2450, 2500, 2550, 2600, 2650, 2750, 3000, 3500, 4000\n",
    "]\n",
    "powers = [\n",
    "    0, 0, 0, 2, 4, 6, 8, 10, 12, 14, 14, 16, 18, 20, 22, 24, 26, 28, 30, 32, 32, 36, 42, 48, 52\n",
    "]\n",
    "\n",
    "mean_laser_mW = np.interp(mean_laser_thresh, dacs, powers)\n",
    "mean_laser_mW_semrange = 0.5 * (\n",
    "    np.interp(mean_laser_thresh + mean_laser_thresh_sem, dacs, powers) - np.interp(mean_laser_thresh - mean_laser_thresh_sem, dacs, powers)\n",
    ")\n",
    "print(f\"Mean laser power {mean_laser_mW:.1f} +/- {mean_laser_mW_semrange:.1f} mW (SEM)\")\n",
    "\n",
    "mean_elec_pA = np.mean(elec_thresh)\n",
    "mean_elec_sem = stats.sem(elec_thresh)\n",
    "print(f\"Mean electrical threshold {mean_elec_pA:.0f} +/- {mean_elec_sem:.0f} pA (SEM)\")\n",
    "\n",
    "## Due to power meter restrictions at lower irradiance, +/- is a more accurate representation\n",
    "# opts_above = [x for x in opt_thresh if x > 1750]\n",
    "# print(opts_above)\n",
    "# print(f\"Laser Power {np.min(opts_above)}-{np.max(opts_above)}\")\n",
    "# print(f\"Laser Power {np.interp(np.min(opts_above), dacs, powers)}-{np.interp(np.max(opts_above), dacs, powers)}\")"
   ]
  },
  {
   "cell_type": "markdown",
   "metadata": {},
   "source": [
    "## Analysis of thresholds"
   ]
  },
  {
   "cell_type": "code",
   "execution_count": 13,
   "metadata": {
    "scrolled": false
   },
   "outputs": [
    {
     "data": {
      "image/png": "[encoded data removed]",
      "text/plain": [
       "<Figure size 249.449x249.449 with 2 Axes>"
      ]
     },
     "metadata": {
      "needs_background": "light"
     },
     "output_type": "display_data"
    }
   ],
   "source": [
    "E = [x.elec_bucket for x in costim_aps]\n",
    "O = [x.opt_bucket for x in costim_aps]\n",
    "EO = np.unique(list(zip(E, O)), axis=0)\n",
    "\n",
    "fix, (ax) = plt.subplots(1, 1, figsize=(GRID_SIZE, GRID_SIZE))\n",
    "\n",
    "for (e, o) in reversed(EO):\n",
    "    col = costim_blue if e + o < 100 else 'r'\n",
    "    ax.plot([0, 1], [e, o], color=col, marker='o')\n",
    "    \n",
    "ax2 = ax.twinx()\n",
    "sns.despine(right=False, top=True, bottom=True)\n",
    "plt.xlim((-0.1, 1.1))\n",
    "plt.ylim((0, 105))\n",
    "\n",
    "ax.set_ylabel('Electrical Stimulus (%)')\n",
    "ax2.set_ylabel('Optical Stimulus (%)')\n",
    "# plt.xticks([0, 1], ['Electrical', 'Optical'])\n",
    "plt.xticks([-100, 100])\n",
    "\n",
    "plt.tight_layout()\n",
    "plt.show()"
   ]
  },
  {
   "cell_type": "code",
   "execution_count": 14,
   "metadata": {},
   "outputs": [
    {
     "data": {
      "image/png": "[encoded data removed]",
      "text/plain": [
       "<Figure size 498.898x249.449 with 1 Axes>"
      ]
     },
     "metadata": {
      "needs_background": "light"
     },
     "output_type": "display_data"
    },
    {
     "name": "stdout",
     "output_type": "stream",
     "text": [
      "Opt bucket: 90, elec bucket: 50\n",
      "--> from 67_Data 110.axgd offset 5ms\n"
     ]
    }
   ],
   "source": [
    "# First plot a representative shape\n",
    "costim_example_idx = 1046 # 229\n",
    "opt_pt = 1500\n",
    "\n",
    "plt.figure(figsize=(2*GRID_SIZE, GRID_SIZE))\n",
    "\n",
    "selected_data[costim_example_idx].plot(color='k', lw=2)\n",
    "\n",
    "plt.text(500, 15, \"O+E\", ha='center', fontsize=20)\n",
    "plt.text(opt_pt + 12, -58, \"O\", ha='center', fontsize=20)\n",
    "plt.text(1000, -58, \"E\", ha='center', fontsize=20)\n",
    "\n",
    "plt.tight_layout()\n",
    "plt.ylabel('$V_m$ (mV)')\n",
    "plt.yticks([-80, -60, -40, -20, 0, 20])\n",
    "\n",
    "sns.despine()\n",
    "plt.show()\n",
    "\n",
    "print(f\"Opt bucket: {selected_data[costim_example_idx].opt_bucket}, elec bucket: {selected_data[costim_example_idx].elec_bucket}\")\n",
    "print(f\"--> from {selected_data[costim_example_idx].file_data._meta[0]} offset {selected_data[costim_example_idx].offset}ms\")"
   ]
  },
  {
   "cell_type": "markdown",
   "metadata": {},
   "source": [
    "### Example spikes"
   ]
  },
  {
   "cell_type": "code",
   "execution_count": 15,
   "metadata": {},
   "outputs": [
    {
     "data": {
      "image/png": "[encoded data removed]",
      "text/plain": [
       "<Figure size 498.898x249.449 with 3 Axes>"
      ]
     },
     "metadata": {
      "needs_background": "light"
     },
     "output_type": "display_data"
    }
   ],
   "source": [
    "fig, (axE, axO, axOE) = plt.subplots(3, 1, figsize=(2*GRID_SIZE, GRID_SIZE), sharex=True)\n",
    "\n",
    "sig_length = int(60 * MS_TO_SAMPLES)\n",
    "warmup = int(5 * MS_TO_SAMPLES)\n",
    "costim_start = 25000\n",
    "elec_start = 20000\n",
    "opt_start = 40000\n",
    "\n",
    "t = np.arange(0, (sig_length + warmup) * SAMPLES_TO_MS, SAMPLES_TO_MS) - 5\n",
    "\n",
    "# plot costim\n",
    "costim_idx_ = 48   # another good example of a regular AP\n",
    "costim_run = costim_aps[costim_idx_]\n",
    "costim_ = costim_run.data\n",
    "axOE.plot(t, costim_[costim_start-warmup:costim_start+sig_length] * 1000, color='k')\n",
    "axOE.plot([-100, 100], [1000 * np.mean(costim_[:100]), 1000 * np.mean(costim_[:100])], color='#555555', alpha=0.4, linestyle='--')\n",
    "\n",
    "# plot electrical - pick random ELEC_ONLY file\n",
    "elec_idx = 10\n",
    "axo = axographio.read(os.path.join(d.BASE_PATH, ELEC_ONLY_FILES[elec_idx][0]))\n",
    "elec_ = axo.data[29]\n",
    "axE.plot(t, elec_[elec_start-warmup:elec_start+sig_length] * 1000, color='k')\n",
    "axE.plot([-100, 100], [1000 * np.mean(elec_[:100]), 1000 * np.mean(elec_[:100])], color='#555555', alpha=0.4, linestyle='--')\n",
    "\n",
    "# plot optical\n",
    "opt_idx = 11\n",
    "axo = axographio.read(os.path.join(d.BASE_PATH, OPT_ONLY_FILES[opt_idx][0]))\n",
    "opt_ = axo.data[10]\n",
    "axO.plot(t, opt_[opt_start-warmup:opt_start+sig_length] * 1000, color='k')\n",
    "axO.plot([-100, 100], [1000 * np.mean(opt_[:100]), 1000 * np.mean(opt_[:100])], color='#555555', alpha=0.4, linestyle='--')\n",
    "\n",
    "# show stimulus\n",
    "axO.axvspan(0, 10, facecolor=costim_blue, alpha=0.2, label='Laser')\n",
    "axE.axvspan(0, 3, facecolor='r', alpha=0.2, label='Current')\n",
    "axOE.axvspan(0, 10, facecolor=costim_blue, alpha=0.2, label='Laser')\n",
    "axOE.axvspan(costim_run.offset, costim_run.offset + 3, facecolor='r', alpha=0.2, label='Electrical')\n",
    "\n",
    "# label graphs\n",
    "fontsize=12\n",
    "axO.text(50, -54, 'O', ha='right', fontsize=fontsize)\n",
    "axE.text(50, -54, 'E', ha='right', fontsize=fontsize)\n",
    "axOE.text(50, -65, f'{costim_run.elec_bucket}% E (+{costim_run.offset} ms)\\n+{costim_run.opt_bucket}% O', ha='right', fontsize=fontsize)\n",
    "\n",
    "# format\n",
    "# axE.legend(loc=5)\n",
    "sns.despine()\n",
    "axO.set_ylabel('$V_m$ (mV)')\n",
    "plt.xlabel('Time (ms)')\n",
    "plt.tight_layout()\n",
    "plt.xlim((-3, 50))\n",
    "plt.subplots_adjust(wspace=0, hspace=0.2)\n",
    "\n",
    "plt.show()"
   ]
  },
  {
   "cell_type": "code",
   "execution_count": 16,
   "metadata": {},
   "outputs": [],
   "source": [
    "def plot_standalone_ap(data, show_scale, label, ax=None, xstart=475, ystart=-65, **kwargs):\n",
    "    if ax is None:\n",
    "        fig, (ax) = plt.subplots(1, 1, figsize=(12,3))\n",
    "    \n",
    "    yhat = data * 1000\n",
    "    \n",
    "#     yhat = savgol_filter(data * 1000, 31, 3)\n",
    "\n",
    "#     nyq = 0.5 * 50000\n",
    "#     low = 10 / nyq\n",
    "#     high = 10000 / nyq\n",
    "#     b, a = butter(2, [low, high], btype='band')    \n",
    "#     yhat = lfilter(b, a, data * 1000)\n",
    "    \n",
    "    ax.plot([i * SAMPLES_TO_MS for i, x in enumerate(yhat)], yhat, color='k', lw=1)\n",
    "    \n",
    "    if show_scale:\n",
    "        draw_bars(ax, 10, \"10 ms\", 20, \"20 mV\", **kwargs)\n",
    "\n",
    "    ax.axhline(np.mean(yhat[0:50]), linestyle='--', color='k', alpha=0.4, lw=1)\n",
    "    \n",
    "    ax.text(xstart + 150, ystart + 8, label, ha='right', va='bottom')\n",
    "    \n",
    "    ax.axis('off')\n",
    "    ax.set_xlim((xstart, xstart + 150))\n",
    "    ax.set_ylim((ystart, ystart + 125))"
   ]
  },
  {
   "cell_type": "code",
   "execution_count": 17,
   "metadata": {},
   "outputs": [],
   "source": [
    "def draw_spike(ax, times, data, offset, ms_offset):\n",
    "    ax.plot(times, [x + offset for x in data], lw=2, color='k', alpha=0.8)\n",
    "    ax.text(0.48, data[0] + offset, f\"{ms_offset} ms\", fontsize=12, va='bottom', ha='left')\n",
    "    start = np.mean(data[:500]) + offset\n",
    "    ax.plot([min(times), max(times)], [start, start], lw='1', color='#777777', alpha=0.6)\n",
    "    ax.hlines(start-12, 0.5 + ms_offset/1000, 0.503 + ms_offset/1000, color='r', lw=7, alpha=0.7)\n",
    "\n",
    "def draw_scalebar(ax, x, y, fs=12):\n",
    "    # draw a scale bar\n",
    "    dx = 0.01\n",
    "    dy = 50\n",
    "    lw=2\n",
    "    ax.plot([x, x+dx], [y, y], color='k', lw=lw)\n",
    "    ax.plot([x, x], [y, y+dy], color='k', lw=lw)\n",
    "    ax.text(x+dx+0.001, y-4, \"10 ms\", ha='left', fontsize=fs)\n",
    "    ax.text(x-0.006, y+dy+10, \"50 mV\", ha='left', fontsize=fs)\n",
    "            \n",
    "def plot_stacked_spikes(data, num=18, start_idx=0, stride=4, width=GRID_SIZE, scalebar=True, offset=35, ax=None):\n",
    "    if ax is None:\n",
    "        fig, (ax) = plt.subplots(1, 1, figsize=(width, width))\n",
    "    else: \n",
    "        fig = None\n",
    "    \n",
    "    ax.axvspan(0.5, 0.51, facecolor=costim_blue, alpha=0.2)\n",
    "\n",
    "    for i in range(start_idx, num, stride):\n",
    "        draw_spike(ax, data.times, [x * 1000 for x in data.runs[i].data], (num - i) * offset, data.runs[i].offset)\n",
    "\n",
    "    ax.set_frame_on(False)\n",
    "    ax.set_xticks([])\n",
    "    ax.set_yticks([])\n",
    "    ax.set_xlim((0.48, 0.57))\n",
    "    ax.set_ylim((-offset, offset * num))\n",
    "    \n",
    "    if scalebar:\n",
    "        draw_scalebar(ax, 0.55, offset * (num - 1.2))\n",
    "    \n",
    "    plt.tight_layout()\n",
    "    \n",
    "    return (fig, ax)"
   ]
  },
  {
   "cell_type": "code",
   "execution_count": 18,
   "metadata": {
    "scrolled": false
   },
   "outputs": [],
   "source": [
    "# [(40, 40), (40, 50), (40, 70), (40, 80), (45, 80), (45, 100), (60, 60), (60, 70), (60, 80), (65, 70), (70, 80), (80, 90)]\n",
    "(o, e) = (40, 40)\n",
    "data_1d = next(x.file_data for x in selected_data if x.opt_bucket == o and x.elec_bucket == e)"
   ]
  },
  {
   "cell_type": "code",
   "execution_count": 19,
   "metadata": {
    "scrolled": false
   },
   "outputs": [],
   "source": [
    "# [(40, 40), (40, 50), (40, 70), (40, 80), (45, 80), (45, 100), (60, 60), (60, 70), (60, 80), (65, 70), (70, 80), (80, 90)]\n",
    "(o, e) = (45, 80)\n",
    "data_1e = next(x.file_data for x in selected_data if x.opt_bucket == o and x.elec_bucket == e)"
   ]
  },
  {
   "cell_type": "code",
   "execution_count": 20,
   "metadata": {
    "scrolled": false
   },
   "outputs": [],
   "source": [
    "(o, e) = (65, 70)\n",
    "data_1f = next(x.file_data for x in selected_data if x.opt_bucket == o and x.elec_bucket == e)"
   ]
  },
  {
   "cell_type": "code",
   "execution_count": 21,
   "metadata": {},
   "outputs": [
    {
     "data": {
      "image/png": "[encoded data removed]",
      "text/plain": [
       "<Figure size 748.346x249.449 with 3 Axes>"
      ]
     },
     "metadata": {},
     "output_type": "display_data"
    }
   ],
   "source": [
    "fig, (ax1, ax2, ax3) = plt.subplots(1, 3, figsize=(3 * GRID_SIZE, GRID_SIZE))\n",
    "plot_stacked_spikes(data_1d, ax=ax1)\n",
    "plot_stacked_spikes(data_1e, scalebar=False, ax=ax2)\n",
    "plot_stacked_spikes(data_1f, scalebar=False, ax=ax3)\n",
    "\n",
    "plt.tight_layout()"
   ]
  },
  {
   "cell_type": "code",
   "execution_count": 22,
   "metadata": {},
   "outputs": [],
   "source": [
    "# subthreshold optical stimulus\n",
    "subthresh_opt = [\n",
    "    run for run in runs if Analysis.subthresh_opt_selector(\n",
    "        run,\n",
    "        HOLD_JNC - ALLOWED_DELTA,\n",
    "        HOLD_JNC + ALLOWED_DELTA\n",
    "    )]\n",
    "\n",
    "times = np.array(range(0, 20500)) * (1000. / 50000.) - 100\n",
    "mean_optical = np.mean([x.opt_data[0:18000] * 1000 for x in subthresh_opt], axis=0)\n",
    "std_optical = stats.sem([x.opt_data[0:18000] * 1000 for x in subthresh_opt], axis=0)"
   ]
  },
  {
   "cell_type": "code",
   "execution_count": 23,
   "metadata": {},
   "outputs": [],
   "source": [
    "# import and analyse electrical only files\n",
    "elec_only = []\n",
    "elec_only_cells = set()\n",
    "\n",
    "for filemeta in ELEC_ONLY_FILES:\n",
    "    axo = axographio.read(os.path.join(d.BASE_PATH, filemeta[0]))\n",
    "    elec_only_cells.add(filemeta[4])\n",
    "    for idx in range(1, len(axo.names), 2):\n",
    "        initial = np.mean(axo.data[idx][:1000])\n",
    "        if initial < -0.07 or initial > -0.05:\n",
    "            continue\n",
    "\n",
    "        dat = np.array([x + d.JNC_POT for x in axo.data[idx][19500:21500]])\n",
    "        if np.max(axo.data[idx]) > 0:\n",
    "#             plt.plot(dat)\n",
    "            peaks = TimeConstants.describe_peaks(dat, None, 0.02)\n",
    "            if len(peaks) != 1:\n",
    "                continue\n",
    "\n",
    "            elec_only.append({\n",
    "                \"path\": filemeta[0],\n",
    "                \"peaks\": peaks[0],\n",
    "                \"data\": dat,\n",
    "                \"vrest\": np.mean(dat[0:200]),\n",
    "                \"max\": np.max(dat),\n",
    "                \"tc\": TimeConstants(peaks[0], axo.data[0][1] - axo.data[0][0], 500)\n",
    "            })"
   ]
  },
  {
   "cell_type": "code",
   "execution_count": 24,
   "metadata": {},
   "outputs": [
    {
     "name": "stdout",
     "output_type": "stream",
     "text": [
      "There are 7 costim cells, {4801, 4904, 6703, 6708, 4405, 6709, 4504}\n",
      "There are 21 opt cells, {5003, 5006, 5007, 4502, 4504, 4903, 4904, 4403, 4404, 4405, 4801, 4803, 4804, 4805, 4806, 5202, 5203, 5204, 5205, 5207, 5208}\n",
      "There are 11 elec cells, {4801, 4803, 4804, 4805, 4806, 5003, 5006, 4404, 4405, 4501, 4504}\n",
      "There are 7 all elec costim cells, {5003, 5006, 5205, 5207, 5208, 5404, 5406}\n"
     ]
    },
    {
     "data": {
      "text/html": [
       "<div>\n",
       "<style scoped>\n",
       "    .dataframe tbody tr th:only-of-type {\n",
       "        vertical-align: middle;\n",
       "    }\n",
       "\n",
       "    .dataframe tbody tr th {\n",
       "        vertical-align: top;\n",
       "    }\n",
       "\n",
       "    .dataframe thead tr th {\n",
       "        text-align: left;\n",
       "    }\n",
       "\n",
       "    .dataframe thead tr:last-of-type th {\n",
       "        text-align: right;\n",
       "    }\n",
       "</style>\n",
       "<table border=\"1\" class=\"dataframe\">\n",
       "  <thead>\n",
       "    <tr>\n",
       "      <th></th>\n",
       "      <th colspan=\"2\" halign=\"left\">amplitude</th>\n",
       "      <th colspan=\"2\" halign=\"left\">tau_off</th>\n",
       "      <th colspan=\"2\" halign=\"left\">tau_on</th>\n",
       "      <th colspan=\"2\" halign=\"left\">width</th>\n",
       "    </tr>\n",
       "    <tr>\n",
       "      <th></th>\n",
       "      <th>mean</th>\n",
       "      <th>sem</th>\n",
       "      <th>mean</th>\n",
       "      <th>sem</th>\n",
       "      <th>mean</th>\n",
       "      <th>sem</th>\n",
       "      <th>mean</th>\n",
       "      <th>sem</th>\n",
       "    </tr>\n",
       "    <tr>\n",
       "      <th>type</th>\n",
       "      <th></th>\n",
       "      <th></th>\n",
       "      <th></th>\n",
       "      <th></th>\n",
       "      <th></th>\n",
       "      <th></th>\n",
       "      <th></th>\n",
       "      <th></th>\n",
       "    </tr>\n",
       "  </thead>\n",
       "  <tbody>\n",
       "    <tr>\n",
       "      <th>all_elec</th>\n",
       "      <td>72.562504</td>\n",
       "      <td>0.601387</td>\n",
       "      <td>1.809143</td>\n",
       "      <td>0.025405</td>\n",
       "      <td>18.575117</td>\n",
       "      <td>0.257186</td>\n",
       "      <td>1.025974</td>\n",
       "      <td>2.512860e-02</td>\n",
       "    </tr>\n",
       "    <tr>\n",
       "      <th>costim</th>\n",
       "      <td>105.620343</td>\n",
       "      <td>0.623289</td>\n",
       "      <td>1.216940</td>\n",
       "      <td>0.055642</td>\n",
       "      <td>4.453171</td>\n",
       "      <td>0.327768</td>\n",
       "      <td>0.873481</td>\n",
       "      <td>9.113133e-03</td>\n",
       "    </tr>\n",
       "    <tr>\n",
       "      <th>sub_e</th>\n",
       "      <td>12.961865</td>\n",
       "      <td>0.352176</td>\n",
       "      <td>9.994619</td>\n",
       "      <td>0.310753</td>\n",
       "      <td>2.024395</td>\n",
       "      <td>0.183379</td>\n",
       "      <td>0.040000</td>\n",
       "      <td>3.289351e-19</td>\n",
       "    </tr>\n",
       "    <tr>\n",
       "      <th>sub_o</th>\n",
       "      <td>12.519569</td>\n",
       "      <td>0.530507</td>\n",
       "      <td>24.021939</td>\n",
       "      <td>0.808920</td>\n",
       "      <td>11.650182</td>\n",
       "      <td>1.596437</td>\n",
       "      <td>0.040000</td>\n",
       "      <td>0.000000e+00</td>\n",
       "    </tr>\n",
       "    <tr>\n",
       "      <th>sup_e</th>\n",
       "      <td>100.225683</td>\n",
       "      <td>1.389917</td>\n",
       "      <td>1.363017</td>\n",
       "      <td>0.026935</td>\n",
       "      <td>3.895531</td>\n",
       "      <td>0.124951</td>\n",
       "      <td>1.285028</td>\n",
       "      <td>1.935878e-02</td>\n",
       "    </tr>\n",
       "    <tr>\n",
       "      <th>sup_o</th>\n",
       "      <td>87.098994</td>\n",
       "      <td>1.504125</td>\n",
       "      <td>1.634506</td>\n",
       "      <td>0.028491</td>\n",
       "      <td>10.553391</td>\n",
       "      <td>0.386770</td>\n",
       "      <td>1.194850</td>\n",
       "      <td>3.538082e-02</td>\n",
       "    </tr>\n",
       "  </tbody>\n",
       "</table>\n",
       "</div>"
      ],
      "text/plain": [
       "           amplitude              tau_off               tau_on            \\\n",
       "                mean       sem       mean       sem       mean       sem   \n",
       "type                                                                       \n",
       "all_elec   72.562504  0.601387   1.809143  0.025405  18.575117  0.257186   \n",
       "costim    105.620343  0.623289   1.216940  0.055642   4.453171  0.327768   \n",
       "sub_e      12.961865  0.352176   9.994619  0.310753   2.024395  0.183379   \n",
       "sub_o      12.519569  0.530507  24.021939  0.808920  11.650182  1.596437   \n",
       "sup_e     100.225683  1.389917   1.363017  0.026935   3.895531  0.124951   \n",
       "sup_o      87.098994  1.504125   1.634506  0.028491  10.553391  0.386770   \n",
       "\n",
       "             width                \n",
       "              mean           sem  \n",
       "type                              \n",
       "all_elec  1.025974  2.512860e-02  \n",
       "costim    0.873481  9.113133e-03  \n",
       "sub_e     0.040000  3.289351e-19  \n",
       "sub_o     0.040000  0.000000e+00  \n",
       "sup_e     1.285028  1.935878e-02  \n",
       "sup_o     1.194850  3.538082e-02  "
      ]
     },
     "execution_count": 24,
     "metadata": {},
     "output_type": "execute_result"
    }
   ],
   "source": [
    "\"\"\"\n",
    "\n",
    "Build up suprathreshold and subthreshold numbers. Based on:\n",
    " - valid_data for costim,\n",
    " - OPT_ONLY_FILES for optical\n",
    " - ELEC_THRESHOLD_FILES for electrical\n",
    "\n",
    "PLOTS ARE:\n",
    " - tau_on, tau_off\n",
    "\n",
    "CONDITIONS ARE: \n",
    " - sub_opt, sup_opt, sub_elec, sup_elec\n",
    "\"\"\"\n",
    "\n",
    "# First build up the conditions from selected data\n",
    "df_data = []\n",
    "\n",
    "def to_item(label, on_tau, off_tau, amp, width_at_0_mV, dvdt_avg: None):\n",
    "    return { 'type': label, 'tau_on': on_tau, 'tau_off': off_tau, 'amplitude': amp, 'width': width_at_0_mV, 'dvdt_avg': dvdt_avg }\n",
    "\n",
    "costim_cells = set()\n",
    "opt_cells = set()\n",
    "elec_cells = set()\n",
    "all_elec_costim_cells = set()\n",
    "\n",
    "# get electrical and optical AP data from the costim files\n",
    "for x in costim_aps:\n",
    "    df_data.append(\n",
    "        to_item('costim', \n",
    "            float(x.costim_time_constants.on_tau.magnitude),\n",
    "            float(x.costim_time_constants.off_tau.magnitude),\n",
    "            x.costim_max.magnitude - x.v_rest,\n",
    "            float(x.costim_time_constants.mv0_duration.magnitude),\n",
    "            0 if x.costim_time_constants.derivative is None else x.costim_time_constants.derivative.dvdt_avg\n",
    "       ))\n",
    "    costim_cells.add(x.cell)\n",
    "print(f\"There are {len(costim_cells)} costim cells, {costim_cells}\")\n",
    "\n",
    "for f in OPT_ONLY_FILES:\n",
    "    axo = axographio.read(os.path.join(d.BASE_PATH, f[0]))\n",
    "    for raw in axo.data[1::3]:\n",
    "        peaks = TimeConstants.describe_peaks(raw[39000 : 50000])\n",
    "        if len(peaks) == 0:\n",
    "            continue\n",
    "        tcs = TimeConstants(peaks[0], SAMPLES_TO_MS / 1000, 1000)\n",
    "        diffs = TimeConstants.get_derivative(raw[39000 : 50000], 2e-5 * q.second, 30, SAMPLES_TO_MS)\n",
    "        t = 'sup_o' if raw[39000 : 50000][peaks[0]['peak']] > -0.02 else 'sub_o'\n",
    "        df_data.append(to_item(\n",
    "            t,\n",
    "            tcs.on_tau,\n",
    "            tcs.off_tau,\n",
    "            peaks[0]['max'] * 1000,\n",
    "            peaks[0]['0mv_duration'] * SAMPLES_TO_MS,\n",
    "            0 if diffs is None else diffs.dvdt_avg\n",
    "        ))\n",
    "        opt_cells.add(f[1])\n",
    "print(f\"There are {len(opt_cells)} opt cells, {opt_cells}\")\n",
    "\n",
    "for f in ELEC_ONLY_FILES:\n",
    "    axo = axographio.read(os.path.join(d.BASE_PATH, f[0]))\n",
    "    for raw in axo.data[1::2]:\n",
    "        initial = np.mean(raw[:1000])\n",
    "\n",
    "        if initial < -0.07 or initial > -0.05:\n",
    "            continue\n",
    "            \n",
    "        peaks = TimeConstants.describe_peaks(raw[19000 : 25000])\n",
    "        if len(peaks) == 0:\n",
    "            continue\n",
    "        tcs = TimeConstants(peaks[0], SAMPLES_TO_MS / 1000, 1000)\n",
    "        diffs = TimeConstants.get_derivative(raw[19000 : 25000], 2e-5 * q.second, 30, SAMPLES_TO_MS)\n",
    "        t = 'sup_e' if raw[19000 : 25000][peaks[0]['peak']] > -0.02 else 'sub_e'\n",
    "        df_data.append(to_item(\n",
    "            t,\n",
    "            tcs.on_tau,\n",
    "            tcs.off_tau,\n",
    "            peaks[0]['max'] * 1000,\n",
    "            peaks[0]['0mv_duration'] * SAMPLES_TO_MS,\n",
    "            0 if diffs is None else diffs.dvdt_avg\n",
    "        ))\n",
    "    elec_cells.add(f[4])\n",
    "    \n",
    "print(f\"There are {len(elec_cells)} elec cells, {elec_cells}\")\n",
    "\n",
    "for f in FAKE_COSTIM_FILES:  \n",
    "    axo = axographio.read(os.path.join(d.BASE_PATH, f[0]))\n",
    "    for raw in axo.data[1::3]:\n",
    "        initial = np.mean(raw[:1000])\n",
    "\n",
    "        # only take values with relatively sane holding potential\n",
    "        if initial < -0.07 or initial > -0.05:\n",
    "            continue\n",
    "\n",
    "        # only take APs\n",
    "        if np.max(raw[24000 : 35000]) < -0.02:\n",
    "            continue\n",
    "\n",
    "        peaks = TimeConstants.describe_peaks(raw[24000 : 35000])\n",
    "        # ignore where there aren't any peaks, or we detect more than one - this is suspect data\n",
    "        if len(peaks) != 1:\n",
    "            continue\n",
    "\n",
    "        tcs = TimeConstants(peaks[0], SAMPLES_TO_MS / 1000, 1000)\n",
    "        diffs = TimeConstants.get_derivative(raw[24000 : 35000], 2e-5 * q.second, 30, SAMPLES_TO_MS)\n",
    "        df_data.append(to_item(\n",
    "            'all_elec',\n",
    "            tcs.on_tau,\n",
    "            tcs.off_tau,\n",
    "            peaks[0]['max'] * 1000,\n",
    "            peaks[0]['0mv_duration'] * SAMPLES_TO_MS,\n",
    "            0 if diffs is None else diffs.dvdt_avg\n",
    "        ))\n",
    "    all_elec_costim_cells.add(f[1])\n",
    "\n",
    "print(f\"There are {len(all_elec_costim_cells)} all elec costim cells, {all_elec_costim_cells}\")\n",
    "        \n",
    "# df_data\n",
    "time_constant_raw_df = pd.DataFrame(df_data)\n",
    "time_constant_df = time_constant_raw_df.groupby(['type']).agg([np.mean, stats.sem])\n",
    "\n",
    "# dvdt_avg for optical contains some 0 dv/dt averages. Can't include the mean / sem numbers\n",
    "# these are excluded in the calculation below\n",
    "time_constant_df[['amplitude', 'tau_off', 'tau_on', 'width']]"
   ]
  },
  {
   "cell_type": "code",
   "execution_count": 25,
   "metadata": {},
   "outputs": [
    {
     "data": {
      "text/plain": [
       "902"
      ]
     },
     "execution_count": 25,
     "metadata": {},
     "output_type": "execute_result"
    }
   ],
   "source": [
    "df_sig = pd.DataFrame(df_data)\n",
    "costim = df_sig[df_sig['type'] == 'costim']\n",
    "len(np.concatenate((costim['amplitude'].values, costim['amplitude'].values), axis=0))"
   ]
  },
  {
   "cell_type": "code",
   "execution_count": 26,
   "metadata": {},
   "outputs": [
    {
     "name": "stdout",
     "output_type": "stream",
     "text": [
      "*** SIGNIFICANCES (sub vs supra) ***\n",
      "E_tau_on: -6.23, p: 0.0000\n",
      "E_tau_off: 17.58, p: 0.0000\n",
      "O_tau_on: 0.77, p: 0.4401\n",
      "O_tau_off: 32.86, p: 0.0000\n",
      "\n",
      "\n",
      "*** SIGNIFICANCES (AP dynamics) ***\n",
      "Max - O+E vs E: 4.08, p: 0.0000\n",
      "Max - O+E vs O: 13.37, p: 0.0000\n",
      "Max - O+E vs E+E: 37.82, p: 0.0000\n",
      "Max - E vs O: 6.24, p: 0.0000\n",
      "Max - E vs E+E: 21.37, p: 0.0000\n",
      "Max - O vs E+E: 10.37, p: 0.0000\n",
      "\n",
      "Width - O+E vs E: -21.76, p: 0.0000\n",
      "Width - O+E vs O: -11.31, p: 0.0000\n",
      "Width - O+E vs E+E: -6.05, p: 0.0000\n",
      "Width - E vs O: 2.06, p: 0.0401\n",
      "Width - E vs E+E: 6.62, p: 0.0000\n",
      "Width - O vs E+E: 3.98, p: 0.0001\n",
      "\n",
      "tau_off - O+E vs E: -1.62, p: 0.1050\n",
      "tau_off - O+E vs O: -5.21, p: 0.0000\n",
      "tau_off - O+E vs E+E: -9.16, p: 0.0000\n",
      "tau_off - E vs O: -6.76, p: 0.0000\n",
      "tau_off - E vs E+E: -10.74, p: 0.0000\n",
      "tau_off - O vs E+E: -4.42, p: 0.0000\n",
      "\n",
      "\n",
      "\n",
      "*** ANOVA (amplitude) ***\n",
      "One way ANOVA f: 322.67, p: 0.0000\n",
      " Multiple Comparison of Means - Tukey HSD, FWER=0.05 \n",
      "=====================================================\n",
      "group1 group2 meandiff p-adj  lower    upper   reject\n",
      "-----------------------------------------------------\n",
      "costim    e+e -33.0578 0.001 -35.9035 -30.2121   True\n",
      "costim   elec  -5.3947 0.001  -9.0176  -1.7717   True\n",
      "costim    opt -18.5213 0.001 -21.8301 -15.2126   True\n",
      "   e+e   elec  27.6632 0.001  23.9531  31.3733   True\n",
      "   e+e    opt  14.5365 0.001  11.1325  17.9405   True\n",
      "  elec    opt -13.1267 0.001 -17.2028  -9.0506   True\n",
      "-----------------------------------------------------\n",
      "p-values: [0.001 0.001 0.001 0.001 0.001 0.001]\n",
      "\n",
      "\n",
      "*** ANOVA (width) ***\n",
      "One way ANOVA f: 63.17, p: 0.0000\n",
      "Multiple Comparison of Means - Tukey HSD, FWER=0.05\n",
      "===================================================\n",
      "group1 group2 meandiff p-adj   lower  upper  reject\n",
      "---------------------------------------------------\n",
      "costim    e+e   0.1525  0.001  0.0828 0.2222   True\n",
      "costim   elec   0.4115  0.001  0.3228 0.5003   True\n",
      "costim    opt   0.3214  0.001  0.2403 0.4024   True\n",
      "   e+e   elec   0.2591  0.001  0.1681   0.35   True\n",
      "   e+e    opt   0.1689  0.001  0.0855 0.2523   True\n",
      "  elec    opt  -0.0902 0.0933 -0.1901 0.0097  False\n",
      "---------------------------------------------------\n",
      "p-values: [0.001      0.001      0.001      0.001      0.001      0.09334398]\n",
      "\n",
      "\n",
      "*** ANOVA (tau_off) ***\n",
      "One way ANOVA f: 42.21, p: 0.0000\n",
      "Multiple Comparison of Means - Tukey HSD, FWER=0.05 \n",
      "====================================================\n",
      "group1 group2 meandiff p-adj   lower   upper  reject\n",
      "----------------------------------------------------\n",
      "costim    e+e   0.5922  0.001  0.4499  0.7345   True\n",
      "costim   elec   0.1461 0.1623 -0.0351  0.3273  False\n",
      "costim    opt   0.4176  0.001  0.2521   0.583   True\n",
      "   e+e   elec  -0.4461  0.001 -0.6317 -0.2606   True\n",
      "   e+e    opt  -0.1746 0.0419 -0.3449 -0.0044   True\n",
      "  elec    opt   0.2715 0.0035  0.0676  0.4753   True\n",
      "----------------------------------------------------\n",
      "p-values: [0.001      0.16232    0.001      0.001      0.04185523 0.00353517]\n"
     ]
    }
   ],
   "source": [
    "def generate_pairwise(c, e, o, ee):\n",
    "    return (\n",
    "        np.concatenate((c.values, e.values, o.values, ee.values), axis=0),\n",
    "        ['costim'] * len(c) + ['elec'] * len(e) + ['opt'] * len(o) + ['e+e'] * len(ee)\n",
    "    )\n",
    "\n",
    "def oneway_anova(column, c, e, o, ee):\n",
    "    print(f\"\\n\\n*** ANOVA ({column}) ***\")\n",
    "    f_mean, p_mean = stats.f_oneway(c[column], e[column], o[column], ee[column])\n",
    "    print(f\"One way ANOVA f: {f_mean:.2f}, p: {p_mean:.4f}\")\n",
    "    if p_mean < 0.05:\n",
    "        dat, cat = generate_pairwise(c[column], e[column], o[column], ee[column])\n",
    "        res = pairwise_tukeyhsd(dat, cat)\n",
    "        print(res)\n",
    "        p_vals = psturng(np.abs(res.meandiffs / res.std_pairs), len(res.groupsunique), res.df_total)\n",
    "        print(f\"p-values: {p_vals}\")\n",
    "\n",
    "print(\"*** SIGNIFICANCES (sub vs supra) ***\")\n",
    "\n",
    "def calc_sigs(data):\n",
    "    esub = data[data['type'] == 'sub_e']\n",
    "    esup = data[data['type'] == 'sup_e']\n",
    "    osub = data[data['type'] == 'sub_o']\n",
    "    osup = data[data['type'] == 'sup_o']\n",
    "    costim = data[data['type'] == 'costim']\n",
    "    allelec = data[data['type'] == 'all_elec']\n",
    "\n",
    "    e_on_tt = stats.ttest_ind(esub['tau_on'], esup['tau_on'])\n",
    "    print(f\"E_tau_on: {e_on_tt.statistic:.2f}, p: {e_on_tt.pvalue:.4f}\")\n",
    "\n",
    "    e_off_tt = stats.ttest_ind(esub['tau_off'], esup['tau_off'])\n",
    "    print(f\"E_tau_off: {e_off_tt.statistic:.2f}, p: {e_off_tt.pvalue:.4f}\")\n",
    "    o_on_tt = stats.ttest_ind(osub['tau_on'], osup['tau_on'])\n",
    "    print(f\"O_tau_on: {o_on_tt.statistic:.2f}, p: {o_on_tt.pvalue:.4f}\")\n",
    "\n",
    "    o_off_tt = stats.ttest_ind(osub['tau_off'], osup['tau_off'])\n",
    "    print(f\"O_tau_off: {o_off_tt.statistic:.2f}, p: {o_off_tt.pvalue:.4f}\")\n",
    "\n",
    "    \n",
    "    \n",
    "\n",
    "    print(\"\\n\\n*** SIGNIFICANCES (AP dynamics) ***\")\n",
    "\n",
    "    max_sig_c_e = stats.ttest_ind(costim['amplitude'], esup['amplitude'])\n",
    "    print(f\"Max - O+E vs E: {max_sig_c_e.statistic:.2f}, p: {max_sig_c_e.pvalue:.4f}\")\n",
    "\n",
    "    max_sig_c_o = stats.ttest_ind(costim['amplitude'], osup['amplitude'])\n",
    "    print(f\"Max - O+E vs O: {max_sig_c_o.statistic:.2f}, p: {max_sig_c_o.pvalue:.4f}\")\n",
    "\n",
    "    max_sig_c_ee = stats.ttest_ind(costim['amplitude'], allelec['amplitude'])\n",
    "    print(f\"Max - O+E vs E+E: {max_sig_c_ee.statistic:.2f}, p: {max_sig_c_ee.pvalue:.4f}\")\n",
    "\n",
    "    max_sig_e_o = stats.ttest_ind(esup['amplitude'], osup['amplitude'])\n",
    "    print(f\"Max - E vs O: {max_sig_e_o.statistic:.2f}, p: {max_sig_e_o.pvalue:.4f}\")\n",
    "\n",
    "    max_sig_e_ee = stats.ttest_ind(esup['amplitude'], allelec['amplitude'])\n",
    "    print(f\"Max - E vs E+E: {max_sig_e_ee.statistic:.2f}, p: {max_sig_e_ee.pvalue:.4f}\")\n",
    "\n",
    "    max_sig_o_ee = stats.ttest_ind(osup['amplitude'], allelec['amplitude'])\n",
    "    print(f\"Max - O vs E+E: {max_sig_o_ee.statistic:.2f}, p: {max_sig_o_ee.pvalue:.4f}\\n\")\n",
    "\n",
    "    \n",
    "\n",
    "\n",
    "    dur_sig_c_e = stats.ttest_ind(costim['width'], esup['width'])\n",
    "    print(f\"Width - O+E vs E: {dur_sig_c_e.statistic:.2f}, p: {dur_sig_c_e.pvalue:.4f}\")\n",
    "\n",
    "    dur_sig_c_o = stats.ttest_ind(costim['width'], osup['width'])\n",
    "    print(f\"Width - O+E vs O: {dur_sig_c_o.statistic:.2f}, p: {dur_sig_c_o.pvalue:.4f}\")\n",
    "\n",
    "    dur_sig_c_ee = stats.ttest_ind(costim['width'], allelec['width'])\n",
    "    print(f\"Width - O+E vs E+E: {dur_sig_c_ee.statistic:.2f}, p: {dur_sig_c_ee.pvalue:.4f}\")\n",
    "\n",
    "    dur_sig_e_o = stats.ttest_ind(esup['width'], osup['width'])\n",
    "    print(f\"Width - E vs O: {dur_sig_e_o.statistic:.2f}, p: {dur_sig_e_o.pvalue:.4f}\")\n",
    "\n",
    "    dur_sig_e_ee = stats.ttest_ind(esup['width'], allelec['width'])\n",
    "    print(f\"Width - E vs E+E: {dur_sig_e_ee.statistic:.2f}, p: {dur_sig_e_ee.pvalue:.4f}\")\n",
    "\n",
    "    dur_sig_o_ee = stats.ttest_ind(osup['width'], allelec['width'])\n",
    "    print(f\"Width - O vs E+E: {dur_sig_o_ee.statistic:.2f}, p: {dur_sig_o_ee.pvalue:.4f}\\n\")\n",
    "\n",
    "\n",
    "\n",
    "\n",
    "    toff_sig_c_e = stats.ttest_ind(costim['tau_off'], esup['tau_off'])\n",
    "    print(f\"tau_off - O+E vs E: {toff_sig_c_e.statistic:.2f}, p: {toff_sig_c_e.pvalue:.4f}\")\n",
    "\n",
    "    toff_sig_c_o = stats.ttest_ind(costim['tau_off'], osup['tau_off'])\n",
    "    print(f\"tau_off - O+E vs O: {toff_sig_c_o.statistic:.2f}, p: {toff_sig_c_o.pvalue:.4f}\")\n",
    "\n",
    "    toff_sig_c_ee = stats.ttest_ind(costim['tau_off'], allelec['tau_off'])\n",
    "    print(f\"tau_off - O+E vs E+E: {toff_sig_c_ee.statistic:.2f}, p: {toff_sig_c_ee.pvalue:.4f}\")\n",
    "\n",
    "    toff_sig_e_o = stats.ttest_ind(esup['tau_off'], osup['tau_off'])\n",
    "    print(f\"tau_off - E vs O: {toff_sig_e_o.statistic:.2f}, p: {toff_sig_e_o.pvalue:.4f}\")\n",
    "\n",
    "    toff_sig_e_ee = stats.ttest_ind(esup['tau_off'], allelec['tau_off'])\n",
    "    print(f\"tau_off - E vs E+E: {toff_sig_e_ee.statistic:.2f}, p: {toff_sig_e_ee.pvalue:.4f}\")\n",
    "\n",
    "    toff_sig_o_ee = stats.ttest_ind(osup['tau_off'], allelec['tau_off'])\n",
    "    print(f\"tau_off - O vs E+E: {toff_sig_o_ee.statistic:.2f}, p: {toff_sig_o_ee.pvalue:.4f}\\n\")\n",
    "    \n",
    "    oneway_anova('amplitude', costim, esup, osup, allelec)\n",
    "    oneway_anova('width', costim, esup, osup, allelec)\n",
    "    oneway_anova('tau_off', costim, esup, osup, allelec)\n",
    "    \n",
    "calc_sigs(df_sig)"
   ]
  },
  {
   "cell_type": "code",
   "execution_count": 27,
   "metadata": {},
   "outputs": [],
   "source": [
    "# Draw significance markers on a plot\n",
    "def draw_sig_points(ax, p1, p2, p3, p4, txty, txt, show_hooks=False, **txt_args):\n",
    "    \"\"\"Draws significance markers with corners at the given points\"\"\"\n",
    "    \n",
    "    pts = []\n",
    "    xmid = 0\n",
    "    \n",
    "    if show_hooks:\n",
    "        # \"upside down U\" shaped significance markers\n",
    "        pts = list(zip(p1, p2, p3, p4))\n",
    "        xmid = 0.5 * (pts[0][2] + pts[0][1])\n",
    "    else:\n",
    "        pts = list(zip(p2, p3))\n",
    "        xmid = 0.5 * (p2[0] + p3[0])\n",
    "\n",
    "    ax.plot(pts[0], pts[1], color='k', lw=2)\n",
    "    ax.text(xmid, txty, txt, ha='center', **txt_args)"
   ]
  },
  {
   "cell_type": "code",
   "execution_count": 28,
   "metadata": {},
   "outputs": [
    {
     "data": {
      "image/png": "[encoded data removed]",
      "text/plain": [
       "<Figure size 498.898x249.449 with 3 Axes>"
      ]
     },
     "metadata": {
      "needs_background": "light"
     },
     "output_type": "display_data"
    }
   ],
   "source": [
    "# plot AP metrics - [mean ap, std ap, mean 0mv duration, std 0mv duration, mean off tau, std off tau]\n",
    "fig, (ax1, ax2, ax3) = plt.subplots(1, 3, figsize=(2 * GRID_SIZE, GRID_SIZE), sharex=True)\n",
    "bar_palette = [ '#333333', '#888888', '#FF0000', costim_blue]\n",
    "\n",
    "barsep = 2\n",
    "barwidth = 1.5\n",
    "ps = list(range(-2 * barsep, barsep * 4, barsep))\n",
    "\n",
    "def draw_bar(ax, costim, ee, elec, opt, title, width=1, rotation=0):\n",
    "    ax.bar(ps[0], elec['mean'], yerr=elec['sem'], color=bar_palette[0], width=width)\n",
    "    ax.bar(ps[1], opt['mean'], yerr=opt['sem'], color=bar_palette[1], width=width)\n",
    "    ax.bar(ps[2], ee['mean'], yerr=ee['sem'], color=bar_palette[2], width=width)\n",
    "    ax.bar(ps[3], costim['mean'], yerr=costim['sem'], color=bar_palette[3], width=width)\n",
    "    ax.set_xticks(ps)\n",
    "    ax.set_xticklabels(('E', 'O', 'E+E', 'O+E'))\n",
    "    \n",
    "    if rotation != 0:\n",
    "        for tick in ax.get_xticklabels():\n",
    "            tick.set_rotation(rotation)\n",
    "    \n",
    "    ax.set_ylabel(title)\n",
    "\n",
    "data = time_constant_df.reset_index()\n",
    "costim = data[data['type'] == 'costim']\n",
    "ee = data[data['type'] == 'all_elec']\n",
    "esup = data[data['type'] == 'sup_e']\n",
    "osup = data[data['type'] == 'sup_o']\n",
    "\n",
    "# max membrane voltage plot\n",
    "draw_bar(ax1, costim['amplitude'], ee['amplitude'], esup['amplitude'], osup['amplitude'], \"Amplitude (mV)\", rotation=90, width=barwidth)\n",
    "draw_sig_points(ax1, [ps[0], 110], [ps[0], 110], [ps[3], 110], [ps[3], 110], 112, \"ALL ***\", fontsize=16)\n",
    "\n",
    "# 0mV duration plot\n",
    "draw_bar(ax2, costim['width'], ee['width'], esup['width'], osup['width'], \"0mV duration (ms)\", rotation=90, width=barwidth)\n",
    "draw_sig_points(ax2, [ps[1], 1.35], [ps[1], 1.4], [ps[3], 1.4], [ps[3], 1.35], 1.4, \"\", fontsize=16)\n",
    "draw_sig_points(ax2, [ps[0], 1.4], [ps[0], 1.45], [ps[2], 1.45], [ps[2], 1.4], 1.5, \"\", fontsize=16)\n",
    "draw_sig_points(ax2, [ps[0], 1.45], [ps[0], 1.5], [ps[3], 1.5], [ps[3], 1.45], 1.5, \"***\", fontsize=16)\n",
    "\n",
    "\n",
    "# off tau plot\n",
    "draw_bar(ax3, costim['tau_off'], ee['tau_off'], esup['tau_off'], osup['tau_off'], \"$\\\\tau_{off}$ (ms)\", rotation=90, width=barwidth)    \n",
    "draw_sig_points(ax3, [ps[0], 2.6], [ps[0], 2.3], [ps[2], 2.3], [ps[2], 2.6], 2.3, \"     ***\", fontsize=16)\n",
    "draw_sig_points(ax3, [ps[1], 2.25], [ps[1], 2.222], [ps[3], 2.22], [ps[3], 2.25], 2.35, \"\", fontsize=16)\n",
    "draw_sig_points(ax3, [ps[2], 1.92], [ps[2], 2.15], [ps[3], 2.15], [ps[3], 1.92], 2.02, \"\", fontsize=16)\n",
    "draw_sig_points(ax3, [ps[0], 1.9], [ps[0], 1.95], [ps[1]-0.15, 1.95], [ps[1]-0.15, 1.9], 1.97, \"**\", fontsize=16)\n",
    "draw_sig_points(ax3, [ps[1]+0.15, 1.9], [ps[1]+0.15, 1.95], [ps[2], 1.95], [ps[2], 1.9], 1.97, \"*\", fontsize=16)\n",
    "\n",
    "sns.despine()\n",
    "\n",
    "plt.tight_layout()\n",
    "plt.show()"
   ]
  },
  {
   "cell_type": "code",
   "execution_count": 29,
   "metadata": {},
   "outputs": [
    {
     "data": {
      "image/png": "[encoded data removed]",
      "text/plain": [
       "<Figure size 498.898x249.449 with 1 Axes>"
      ]
     },
     "metadata": {
      "needs_background": "light"
     },
     "output_type": "display_data"
    }
   ],
   "source": [
    "# now plot the results\n",
    "fig, (ax) = plt.subplots(1, 1, figsize=(2*GRID_SIZE, GRID_SIZE))\n",
    "\n",
    "p = []\n",
    "ps = [0, 1, 2.5, 3.5, 6, 7, 8.5, 9.5]\n",
    "\n",
    "ax.bar(ps[4], [time_constant_df['tau_on']['mean']['sub_e']], yerr=[time_constant_df['tau_on']['sem']['sub_e']], color=bar_palette[0], label='Subthreshold')\n",
    "ax.bar(ps[6], [time_constant_df['tau_off']['mean']['sub_e']], yerr=[time_constant_df['tau_off']['sem']['sub_e']], color=bar_palette[0])\n",
    "\n",
    "ax.bar(ps[0], [time_constant_df['tau_on']['mean']['sub_o']], yerr=[time_constant_df['tau_on']['sem']['sub_o']], color=bar_palette[0])\n",
    "ax.bar(ps[2], [time_constant_df['tau_off']['mean']['sub_o']], yerr=[time_constant_df['tau_off']['sem']['sub_o']], color=bar_palette[0])\n",
    "\n",
    "ax.bar(ps[5], [time_constant_df['tau_on']['mean']['sup_e']], yerr=[time_constant_df['tau_on']['sem']['sup_e']], color=bar_palette[1], label='Suprathreshold')\n",
    "ax.bar(ps[7], [time_constant_df['tau_off']['mean']['sup_e']], yerr=[time_constant_df['tau_off']['sem']['sup_e']], color=bar_palette[1])\n",
    "\n",
    "ax.bar(ps[1], [time_constant_df['tau_on']['mean']['sup_o']], yerr=[time_constant_df['tau_on']['sem']['sup_o']], color=bar_palette[1])\n",
    "ax.bar(ps[3], [time_constant_df['tau_off']['mean']['sup_o']], yerr=[time_constant_df['tau_off']['sem']['sup_o']], color=bar_palette[1])\n",
    "\n",
    "ax.set_xticks([0.5, 3, 6.5, 9])\n",
    "ax.set_xticklabels(('$\\\\tau_{on}$', '$\\\\tau_{off}$', '$\\\\tau_{on}$', '$\\\\tau_{off}$'))\n",
    "\n",
    "ax.set_xlabel('Optical                                Electrical')\n",
    "ax.set_ylabel('Time (ms)')\n",
    "\n",
    "draw_sig_points(ax, [ps[2], 27.2], [ps[2], 28], [ps[3], 28], [ps[3], 27.2 ], 28, \"****\", fontsize=16)\n",
    "draw_sig_points(ax, [ps[4], 11.2 ], [ps[4], 12 ], [ps[5], 12 ], [ps[5], 11.2 ], 12, \"****\", fontsize=16)\n",
    "draw_sig_points(ax, [ps[6], 11.2], [ps[6], 12], [ps[7], 12], [ps[7], 11.2 ], 12, \"****\", fontsize=16)\n",
    "\n",
    "plt.legend(frameon=False)\n",
    "sns.despine()\n",
    "plt.tight_layout()\n",
    "plt.show()"
   ]
  },
  {
   "cell_type": "code",
   "execution_count": 30,
   "metadata": {},
   "outputs": [
    {
     "name": "stdout",
     "output_type": "stream",
     "text": [
      "AVERAGE DV/DT BY TYPE\n",
      "\n",
      "\n",
      "*** ANOVA (dvdt_avg) ***\n",
      "One way ANOVA f: 93.23, p: 0.0000\n",
      " Multiple Comparison of Means - Tukey HSD, FWER=0.05  \n",
      "======================================================\n",
      "group1 group2 meandiff p-adj   lower    upper   reject\n",
      "------------------------------------------------------\n",
      "costim    e+e  -28.422  0.001 -33.9577 -22.8862   True\n",
      "costim   elec  -3.1917 0.6011  -9.9286   3.5451  False\n",
      "costim    opt  11.8298  0.001   5.3396  18.3201   True\n",
      "   e+e   elec  25.2302  0.001  18.1481  32.3124   True\n",
      "   e+e    opt  40.2518  0.001  33.4038  47.0999   True\n",
      "  elec    opt  15.0216  0.001   7.1707  22.8725   True\n",
      "------------------------------------------------------\n",
      "p-values: [0.001      0.60112863 0.001      0.001      0.001      0.001     ]\n",
      "\n",
      "\n",
      "Average dV/dt:\n"
     ]
    },
    {
     "data": {
      "text/html": [
       "<div>\n",
       "<style scoped>\n",
       "    .dataframe tbody tr th:only-of-type {\n",
       "        vertical-align: middle;\n",
       "    }\n",
       "\n",
       "    .dataframe tbody tr th {\n",
       "        vertical-align: top;\n",
       "    }\n",
       "\n",
       "    .dataframe thead th {\n",
       "        text-align: right;\n",
       "    }\n",
       "</style>\n",
       "<table border=\"1\" class=\"dataframe\">\n",
       "  <thead>\n",
       "    <tr style=\"text-align: right;\">\n",
       "      <th></th>\n",
       "      <th>mean</th>\n",
       "      <th>sem</th>\n",
       "    </tr>\n",
       "    <tr>\n",
       "      <th>type</th>\n",
       "      <th></th>\n",
       "      <th></th>\n",
       "    </tr>\n",
       "  </thead>\n",
       "  <tbody>\n",
       "    <tr>\n",
       "      <th>all_elec</th>\n",
       "      <td>46.912253</td>\n",
       "      <td>0.749333</td>\n",
       "    </tr>\n",
       "    <tr>\n",
       "      <th>costim</th>\n",
       "      <td>75.334236</td>\n",
       "      <td>1.790520</td>\n",
       "    </tr>\n",
       "    <tr>\n",
       "      <th>sup_e</th>\n",
       "      <td>72.142487</td>\n",
       "      <td>2.688510</td>\n",
       "    </tr>\n",
       "    <tr>\n",
       "      <th>sup_o</th>\n",
       "      <td>87.164084</td>\n",
       "      <td>1.375680</td>\n",
       "    </tr>\n",
       "  </tbody>\n",
       "</table>\n",
       "</div>"
      ],
      "text/plain": [
       "               mean       sem\n",
       "type                         \n",
       "all_elec  46.912253  0.749333\n",
       "costim    75.334236  1.790520\n",
       "sup_e     72.142487  2.688510\n",
       "sup_o     87.164084  1.375680"
      ]
     },
     "execution_count": 30,
     "metadata": {},
     "output_type": "execute_result"
    }
   ],
   "source": [
    "# plot comparison of dv/dts\n",
    "height = 8\n",
    "\n",
    "# statistical significance\n",
    "# this excludes where dvdt is 0, which indicates no peak was found by the algorithm. This occurred for a few optical pulses\n",
    "print(\"AVERAGE DV/DT BY TYPE\")\n",
    "valid_dvdt_df = time_constant_raw_df[time_constant_raw_df['dvdt_avg'] != 0]\n",
    "\n",
    "by_type = lambda t: valid_dvdt_df[valid_dvdt_df['type'] == t]\n",
    "\n",
    "oneway_anova('dvdt_avg', by_type('costim'), by_type('sup_e'), by_type('sup_o'), by_type('all_elec'))\n",
    "\n",
    "print(\"\\n\\nAverage dV/dt:\")\n",
    "dvdt_avg_df = valid_dvdt_df.groupby(['type']).agg([np.mean, stats.sem])['dvdt_avg']\n",
    "dvdt_avg_df"
   ]
  },
  {
   "cell_type": "code",
   "execution_count": 31,
   "metadata": {},
   "outputs": [
    {
     "data": {
      "image/png": "[encoded data removed]",
      "text/plain": [
       "<Figure size 274.394x274.394 with 1 Axes>"
      ]
     },
     "metadata": {
      "needs_background": "light"
     },
     "output_type": "display_data"
    }
   ],
   "source": [
    "ps = [-2, -0.5, 1, 2.5]\n",
    "height=11\n",
    "\n",
    "fig, (ax) = plt.subplots(1, 1, figsize=(1.1*GRID_SIZE, 1.1*GRID_SIZE)) # non standard size to fit category labels\n",
    "ax.bar([ps[0]], [dvdt_avg_df['mean']['sup_e']], yerr=[dvdt_avg_df['sem']['sup_e']], color=bar_palette[0])\n",
    "ax.bar([ps[1]], [dvdt_avg_df['mean']['sup_o']], yerr=[dvdt_avg_df['sem']['sup_o']], color=bar_palette[1])\n",
    "ax.bar([ps[2]], [dvdt_avg_df['mean']['all_elec']], yerr=[dvdt_avg_df['sem']['all_elec']], color=bar_palette[2])\n",
    "ax.bar([ps[3]], [dvdt_avg_df['mean']['costim']], yerr=[dvdt_avg_df['sem']['costim']], color=bar_palette[3])\n",
    "\n",
    "b1 = 98\n",
    "b2 = b1+40\n",
    "b3 = b2+40\n",
    "draw_sig_points(ax, [ps[3], b1-3], [ps[3], b1], [ps[1], b1], [ps[1], b1-3], b1, \"\", fontsize=16)\n",
    "draw_sig_points(ax, [ps[3], b1-3], [ps[3], b1-6], [ps[2], b1-6], [ps[2], b1-3], b1, \"\", fontsize=16)\n",
    "draw_sig_points(ax, [ps[0], b1-3], [ps[0], b1-6], [ps[1], b1-6], [ps[1], b1-3], b1, \"\", fontsize=16)\n",
    "draw_sig_points(ax, [ps[0], b2-3], [ps[0], b1-3], [ps[2], b1-3], [ps[2], b2-3], b1, \"         ***\", fontsize=16)\n",
    "\n",
    "ax.set_xticks(ps)\n",
    "ax.set_xticklabels(('E', 'O', 'E+E', 'O+E'))\n",
    "ax.set_ylabel('$\\\\frac{\\Delta V_m}{\\Delta t}$ (mV/ms)')\n",
    "\n",
    "# plt.legend(frameon=False)\n",
    "sns.despine()\n",
    "plt.tight_layout()\n",
    "plt.show()"
   ]
  },
  {
   "cell_type": "markdown",
   "metadata": {},
   "source": [
    "### Plot mean firing rates"
   ]
  },
  {
   "cell_type": "code",
   "execution_count": 32,
   "metadata": {},
   "outputs": [
    {
     "name": "stdout",
     "output_type": "stream",
     "text": [
      "[(40, 40), (40, 50), (40, 70), (40, 80), (45, 80), (45, 100), (60, 60), (60, 70), (60, 80), (65, 70), (70, 80), (80, 90)]\n"
     ]
    },
    {
     "data": {
      "image/png": "[encoded data removed]",
      "text/plain": [
       "<Figure size 498.898x249.449 with 2 Axes>"
      ]
     },
     "metadata": {
      "needs_background": "light"
     },
     "output_type": "display_data"
    }
   ],
   "source": [
    "# this is the (opt, elec) power levels where 50% of APs are fired across all offsets\n",
    "print(above_threshold_parameters)\n",
    "\n",
    "times = np.array(range(0, 20500)) * (1000. / 50000.) - 100\n",
    "\n",
    "spike_df_above50 = spike_df.copy()\n",
    "spike_df_above50['above50'] = pd.Series(\n",
    "    map(\n",
    "        lambda o, e: (o, e) in above_threshold_parameters,\n",
    "        spike_df_above50['Optical'],\n",
    "        spike_df_above50['Electrical']\n",
    "    ))\n",
    "\n",
    "spike_df_above50_metrics = spike_df_above50[\n",
    "    (spike_df_above50['above50'] == True) & \n",
    "    (spike_df_above50['Offset'] % 2 == 1)\n",
    "].groupby(['Offset'])['Costim'].agg([np.mean, stats.sem]).dropna().reset_index()\n",
    "\n",
    "fig, (ax1) = plt.subplots(1, 1, figsize=(2 * GRID_SIZE, GRID_SIZE))\n",
    "\n",
    "# plot ALL values where any caused an AP (i.e. includes runs where only 1 AP was generated)\n",
    "ax1.errorbar(\n",
    "    spike_df_above50_metrics['Offset'],\n",
    "    spike_df_above50_metrics['mean'] / 100.,\n",
    "    yerr=spike_df_above50_metrics['sem'] / 100.,\n",
    "    color='k', lw=3, marker='o'\n",
    ")\n",
    "\n",
    "ax1.axvspan(0, 10, -1, 1.1, facecolor=costim_blue, alpha=0.2)\n",
    "\n",
    "ax2 = ax1.twinx()\n",
    "ax2.plot(times[:18000], mean_optical - mean_optical[0], color=costim_blue, lw=2, zorder=1)\n",
    "\n",
    "# sns.despine()\n",
    "sns.despine(right=False)\n",
    "ax2.set_ylabel(\"$\\Delta V_m$ from rest (mV)\")\n",
    "ax2.yaxis.label.set_color(costim_blue)\n",
    "ax2.tick_params(axis='y', colors=costim_blue, zorder=2)\n",
    "ax2.set_ylim((-1, 10))\n",
    "\n",
    "\n",
    "ax1.set_xlim((-5, 32))\n",
    "ax1.set_xticks([0, 5, 10, 15, 20, 25, 30])\n",
    "ax1.set_yticks([x / 5. for x in range(0, 6)])\n",
    "ax1.set_xlabel(\"Delay (ms)\")\n",
    "ax1.set_ylabel(\"Firing probability\\n(AP/pulse)\")\n",
    "plt.show()"
   ]
  },
  {
   "cell_type": "code",
   "execution_count": 33,
   "metadata": {},
   "outputs": [
    {
     "name": "stdout",
     "output_type": "stream",
     "text": [
      "** Pearson's Cross-Correlation is 0.85 with p = 0.0000\n"
     ]
    }
   ],
   "source": [
    "OPT_ONSET_IDX = 5000 # int(100 * MS_TO_SAMPLES)\n",
    "\n",
    "prob = np.array(spike_df_above50_metrics['mean'])\n",
    "\n",
    "opt_curve = np.array([mean_optical[OPT_ONSET_IDX + int(i * MS_TO_SAMPLES)] for i in list(spike_df_above50_metrics['Offset'])])\n",
    "# opt_curve = (opt_curve - opt_curve[0])\n",
    "\n",
    "corr = stats.pearsonr(prob, opt_curve)\n",
    "print(f\"** Pearson's Cross-Correlation is {corr[0]:.2f} with p = {corr[1]:.4f}\")"
   ]
  },
  {
   "cell_type": "code",
   "execution_count": 34,
   "metadata": {},
   "outputs": [
    {
     "name": "stdout",
     "output_type": "stream",
     "text": [
      "** Pearson's Cross-Correlation for all dv/dt is 0.11 with p = 0.6613\n",
      "** Pearson's Cross-Correlation for first 10ms dv/dt is 0.94 with p = 0.0061\n"
     ]
    }
   ],
   "source": [
    "dvdt_opt_mean = [0] + (mean_optical[1:]-mean_optical[:-1])\n",
    "dvdt_opt_curve = [dvdt_opt_mean[int(5000 + x * MS_TO_SAMPLES)] for x in list(spike_df_above50_metrics['Offset'])]\n",
    "\n",
    "corr = stats.pearsonr(prob, dvdt_opt_curve)\n",
    "print(f\"** Pearson's Cross-Correlation for all dv/dt is {corr[0]:.2f} with p = {corr[1]:.4f}\")\n",
    "\n",
    "corr = stats.pearsonr(prob[:6], dvdt_opt_curve[:6])\n",
    "print(f\"** Pearson's Cross-Correlation for first 10ms dv/dt is {corr[0]:.2f} with p = {corr[1]:.4f}\")\n",
    "\n",
    "# fig, (ax) = plt.subplots(1, 1)\n",
    "# ax.plot(dvdt_opt_curve, marker='.')\n",
    "# ax2 = ax.twinx()\n",
    "# ax2.plot(prob)"
   ]
  },
  {
   "cell_type": "code",
   "execution_count": 35,
   "metadata": {},
   "outputs": [
    {
     "name": "stdout",
     "output_type": "stream",
     "text": [
      "535.98 + 6.93 * V + 962.31 * dvdt\n",
      "** Pearson's Cross-Correlation for multiple linear regression 0.91 with p = 0.0000\n"
     ]
    }
   ],
   "source": [
    "# Apply multiple linear regression to dvdt / Vm --> firing probability\n",
    "\n",
    "clf = LinearRegression()\n",
    "reg_input = [[v, dv] for (v, dv) in zip(opt_curve, dvdt_opt_curve)]\n",
    "clf.fit(reg_input, prob)\n",
    "\n",
    "print(f\"{clf.intercept_:.2f} + {clf.coef_[0]:.2f} * V + {clf.coef_[1]:.2f} * dvdt\")\n",
    "pred = clf.predict(reg_input)\n",
    "\n",
    "corr = stats.pearsonr(prob, pred)\n",
    "print(f\"** Pearson's Cross-Correlation for multiple linear regression {corr[0]:.2f} with p = {corr[1]:.4f}\")"
   ]
  },
  {
   "cell_type": "code",
   "execution_count": 36,
   "metadata": {
    "scrolled": false
   },
   "outputs": [
    {
     "data": {
      "image/png": "[encoded data removed]",
      "text/plain": [
       "<Figure size 498.898x249.449 with 1 Axes>"
      ]
     },
     "metadata": {
      "needs_background": "light"
     },
     "output_type": "display_data"
    }
   ],
   "source": [
    "# fake electrical\n",
    "fake_axo = axographio.read(os.path.join(d.BASE_PATH, FAKE_COSTIM_FILES[0][0]))\n",
    "\n",
    "fig, (ax1) = plt.subplots(1, 1, figsize=(2 * GRID_SIZE, GRID_SIZE))\n",
    "max_idx = (len(fake_axo.names) - 1)\n",
    "stride = 1\n",
    "\n",
    "# ax1.fill([0, 20, 20, 0], [20, 20, 21.5, 21.5], color='r')\n",
    "ax1.axvspan(0, 20, -3, 50, facecolor='r', alpha=0.1)\n",
    "ax1.axhline(-71, linestyle='--', color='k', alpha=0.4, lw=2)\n",
    "\n",
    "for i in range(1, max_idx, 3 * stride):\n",
    "    ax1.plot([x * SAMPLES_TO_MS - 500 for x in range(len(fake_axo.data[i]))], [(x + d.JNC_POT) * 1000 for x in fake_axo.data[i]], color='k', alpha=0.5)\n",
    "    ax1.set_ylim((-80, 40))\n",
    "    ax1.set_xlim((-7, 3000 * SAMPLES_TO_MS))\n",
    "\n",
    "ax1.set_xlabel(\"Time (ms)\")\n",
    "ax1.set_ylabel(\"\\n$V_m$ (mV)\")\n",
    "\n",
    "sns.despine()\n",
    "\n",
    "plt.tight_layout()\n",
    "plt.show()"
   ]
  },
  {
   "cell_type": "code",
   "execution_count": 37,
   "metadata": {},
   "outputs": [],
   "source": [
    "# plot the mean \"faked\" optical response\n",
    "elec_responses = np.zeros(90000)\n",
    "num_elec_runs = 0\n",
    "\n",
    "for fake in FAKE_COSTIM_FILES:\n",
    "    fake_axo = axographio.read(os.path.join(d.BASE_PATH, fake[0]))\n",
    "    max_idx = (len(fake_axo.names) - 1)\n",
    "    \n",
    "    # do a fairly budget average by just adding them all together and then dividing by count\n",
    "    # slow but \"easy\"\n",
    "    for i in range(1, max_idx, 3):\n",
    "        elec_responses = elec_responses + fake_axo.data[i]\n",
    "        num_elec_runs += 1\n",
    "\n",
    "elec_response_mean = [(x) * (1000. / num_elec_runs) + (d.JNC_POT * 1000) for x in elec_responses]\n",
    "elec_responses = None"
   ]
  },
  {
   "cell_type": "code",
   "execution_count": 38,
   "metadata": {},
   "outputs": [],
   "source": [
    "fake_axos = []\n",
    "fake_runs = []\n",
    "for x in FAKE_COSTIM_FILES:\n",
    "    path = os.path.join(d.BASE_PATH, x[0])\n",
    "    fake_axos.append((axographio.read(path), x[1]))\n",
    "    \n",
    "# divide by 9 for 3 recording channels and 3 repetitions\n",
    "get_num_offsets = lambda x: (len(x.data) - 1) // (3 * 3)\n",
    "max_offset_count = np.max([get_num_offsets(x[0]) for x in fake_axos])\n",
    "offsets = list(range(-3, -3 + max_offset_count * 2, 2))\n",
    "spike_count = dict(zip(offsets, [0] * len(offsets)))\n",
    "run_count = dict(zip(offsets, [0] * len(offsets)))\n",
    "espike_perc = dict(zip(offsets, [0] * len(offsets)))\n",
    "\n",
    "for axo, cell in fake_axos:\n",
    "    num_offsets = get_num_offsets(axo)\n",
    "    axo_offsets = offsets[:num_offsets]\n",
    "    num_aps = 0\n",
    "    offset_aps = []\n",
    "    offset_runs = []\n",
    "    \n",
    "    for rep in range(3): # for each repetition\n",
    "        for i, off in enumerate(axo_offsets): # for each offset\n",
    "#             run_count[off] += 1 # add a run\n",
    "            offset_runs.append(off)\n",
    "            dat = axo.data[1 + 3 * rep * num_offsets + i * 3] # check if the run had APs\n",
    "            \n",
    "            pk_val = np.max(dat)\n",
    "            if pk_val > 0 - d.JNC_POT:\n",
    "#                 spike_count[off] += 1\n",
    "                num_aps += 1\n",
    "                offset_aps.append(off)\n",
    "          \n",
    "    # check if the axo file was above costim threshold, i.e. 50% of pulses fired APs\n",
    "    perc_aps = num_aps / float(len(axo_offsets))\n",
    "    if perc_aps >= 0.5:\n",
    "        # above threshold, add the run and offset count\n",
    "        for off in offset_aps:\n",
    "            spike_count[off] += 1\n",
    "        for off in offset_runs:\n",
    "            run_count[off] += 1\n",
    "\n",
    "for offset in offsets:\n",
    "    espike_perc[offset] = 0 if run_count[offset] == 0 else round(100. * spike_count[offset] / run_count[offset])"
   ]
  },
  {
   "cell_type": "code",
   "execution_count": 39,
   "metadata": {},
   "outputs": [
    {
     "data": {
      "image/png": "[encoded data removed]",
      "text/plain": [
       "<Figure size 498.898x249.449 with 2 Axes>"
      ]
     },
     "metadata": {
      "needs_background": "light"
     },
     "output_type": "display_data"
    }
   ],
   "source": [
    "fig, (ax1) = plt.subplots(1, 1, figsize=(2 * GRID_SIZE, GRID_SIZE))\n",
    "# plot ALL values where any caused an AP (i.e. includes runs where only 1 AP was generated)\n",
    "ax1.plot(list(espike_perc.keys()), [x / 100. for x in espike_perc.values()], color='k', lw=3, marker='o')\n",
    "\n",
    "ax2 = ax1.twinx()\n",
    "elec_times = [x * SAMPLES_TO_MS - (1000 * SAMPLES_TO_MS) for x in range(18000)]\n",
    "ax2.plot(elec_times, elec_response_mean[49000:67000] - elec_response_mean[49000], color='r', lw=2)\n",
    "\n",
    "# ax1.fill([0, 20, 20, 0], [1, 1, 0.99, 0.99], color='r')\n",
    "ax1.axvspan(0, 20, -10, 10, facecolor='r', alpha=0.1)\n",
    "\n",
    "sns.despine(right=False)\n",
    "\n",
    "ax2.set_ylabel(\"$\\Delta V_m$ from rest (mV)\")\n",
    "ax1.set_yticks([x / 5. for x in range(0, 6)])\n",
    "ax1.set_xlabel(\"Delay (ms)\")\n",
    "ax1.set_ylabel(\"Firing probability\\n(AP/pulse)\")\n",
    "\n",
    "ax2.yaxis.label.set_color('r')\n",
    "ax2.tick_params(axis='y', colors='r', zorder=2)\n",
    "\n",
    "ax1.set_xlim((-4, 32))\n",
    "ax3.set_xlim((-4, 32))\n",
    "ax3.set_ylim((-0.3, 1.3))\n",
    "ax1.set_ylim((-0.05, 1.05))\n",
    "ax2.set_ylim((-1, 13.9))\n",
    "\n",
    "plt.show()"
   ]
  },
  {
   "cell_type": "code",
   "execution_count": 40,
   "metadata": {},
   "outputs": [
    {
     "name": "stdout",
     "output_type": "stream",
     "text": [
      "** Pearson's Cross-Correlation with elec curve is 0.44 with p = 0.051\n"
     ]
    }
   ],
   "source": [
    "# Correlation of mock firing rate with average mock response \n",
    "espike_perc_vals = list(espike_perc.values())\n",
    "elec_curve = np.array([elec_response_mean[49000:67000][int(2 * i * MS_TO_SAMPLES)] for i in range(-3, 36, 2)])\n",
    "\n",
    "corr = stats.pearsonr(espike_perc_vals, elec_curve)\n",
    "print(f\"** Pearson's Cross-Correlation with elec curve is {corr[0]:.2f} with p = {corr[1]:.3f}\")"
   ]
  },
  {
   "cell_type": "code",
   "execution_count": 41,
   "metadata": {},
   "outputs": [
    {
     "name": "stdout",
     "output_type": "stream",
     "text": [
      "** Pearson's Cross-Correlation with first 12 points of dv/dt for elec curve is 0.66 with p = 0.018\n"
     ]
    }
   ],
   "source": [
    "# Correlation of mock firing rate with derivative of average mock response \n",
    "espike_perc_vals = list(espike_perc.values())\n",
    "dvdt_mock = [0] + np.diff(elec_response_mean[49000:67000])\n",
    "elec_curve_dvdt = np.array([dvdt_mock[int(2 * i * MS_TO_SAMPLES)] for i in range(-3, 36, 2)])\n",
    "\n",
    "pts_to_check = 12\n",
    "avg_period_for_dvdt = 30\n",
    "\n",
    "def get_mock_xy(data, pts):\n",
    "    x = [i for i in range(-3, 36, 2)][:pts]\n",
    "    return (\n",
    "        x,\n",
    "        [np.mean(\n",
    "                data[\n",
    "                    int((idx + 20) * MS_TO_SAMPLES) - avg_period_for_dvdt : \n",
    "                    int((idx + 20) * MS_TO_SAMPLES) + avg_period_for_dvdt\n",
    "                ]) for idx in x],\n",
    "        [stats.sem(\n",
    "                data[\n",
    "                    int((idx + 20) * MS_TO_SAMPLES) - avg_period_for_dvdt : \n",
    "                    int((idx + 20) * MS_TO_SAMPLES) + avg_period_for_dvdt\n",
    "                ]) for idx in x])\n",
    "\n",
    "x, y, _ = get_mock_xy(dvdt_mock, pts_to_check)\n",
    "\n",
    "corr = stats.pearsonr(espike_perc_vals[:pts_to_check], elec_curve_dvdt[:pts_to_check])\n",
    "print(f\"** Pearson's Cross-Correlation with first {pts_to_check} points of dv/dt for elec curve is {corr[0]:.2f} with p = {corr[1]:.3f}\")"
   ]
  },
  {
   "cell_type": "code",
   "execution_count": 42,
   "metadata": {},
   "outputs": [
    {
     "name": "stdout",
     "output_type": "stream",
     "text": [
      "** Pearson's Cross-Correlation with ALL dv/dt for elec curve is 0.55 with p = 0.013\n"
     ]
    }
   ],
   "source": [
    "corr3 = stats.pearsonr(espike_perc_vals, elec_curve_dvdt)\n",
    "print(f\"** Pearson's Cross-Correlation with ALL dv/dt for elec curve is {corr3[0]:.2f} with p = {corr3[1]:.3f}\")"
   ]
  },
  {
   "cell_type": "code",
   "execution_count": 43,
   "metadata": {},
   "outputs": [
    {
     "name": "stdout",
     "output_type": "stream",
     "text": [
      "344.46 + 4.46 * V + 2073.33 * dvdt\n",
      "** Pearson's Cross-Correlation for multiple linear regression 0.70 with p = 0.0006\n"
     ]
    }
   ],
   "source": [
    "# Apply multiple linear regression to dvdt / Vm --> firing probability\n",
    "\n",
    "clf = LinearRegression()\n",
    "reg_input = [[v, dv] for (v, dv) in zip(elec_curve, elec_curve_dvdt)]\n",
    "clf.fit(reg_input, espike_perc_vals)\n",
    "\n",
    "print(f\"{clf.intercept_:.2f} + {clf.coef_[0]:.2f} * V + {clf.coef_[1]:.2f} * dvdt\")\n",
    "pred = clf.predict(reg_input)\n",
    "\n",
    "corr = stats.pearsonr(espike_perc_vals, pred)\n",
    "print(f\"** Pearson's Cross-Correlation for multiple linear regression {corr[0]:.2f} with p = {corr[1]:.4f}\")"
   ]
  },
  {
   "cell_type": "markdown",
   "metadata": {},
   "source": [
    "## Na Inactivation Lines"
   ]
  },
  {
   "cell_type": "code",
   "execution_count": 44,
   "metadata": {},
   "outputs": [
    {
     "name": "stderr",
     "output_type": "stream",
     "text": [
      "D:\\Tools\\Anaconda\\lib\\site-packages\\numpy\\core\\_methods.py:140: RuntimeWarning: Degrees of freedom <= 0 for slice\n",
      "  keepdims=keepdims)\n",
      "D:\\Tools\\Anaconda\\lib\\site-packages\\numpy\\core\\_methods.py:132: RuntimeWarning: invalid value encountered in double_scalars\n",
      "  ret = ret.dtype.type(ret / rcount)\n"
     ]
    },
    {
     "data": {
      "image/png": "[encoded data removed]",
      "text/plain": [
       "<Figure size 498.898x249.449 with 1 Axes>"
      ]
     },
     "metadata": {
      "needs_background": "light"
     },
     "output_type": "display_data"
    }
   ],
   "source": [
    "# calculate time points:\n",
    "\n",
    "ms100 = int(0.1 * 1000 * MS_TO_SAMPLES) # samples in 100ms\n",
    "\n",
    "# timing for conditioning pulse\n",
    "condition0 = int(0.25 * 1000 * MS_TO_SAMPLES)\n",
    "condition1 = condition0 + ms100\n",
    "\n",
    "# timing for steady state test pulse\n",
    "test0 = int(0.58 * 1000 * MS_TO_SAMPLES)\n",
    "test1 = test0 + ms100\n",
    "\n",
    "# # inwards part of the response\n",
    "testii0 = int(400.2 * MS_TO_SAMPLES)\n",
    "testii1 = testii0 + int(2 * MS_TO_SAMPLES)\n",
    "\n",
    "results = []\n",
    "for idx, f in enumerate(VC_INACTIVATION_FILES):\n",
    "    axo = axographio.read(os.path.join(d.BASE_PATH, f[0]))\n",
    "\n",
    "    for start_idx in range(1, len(axo.names) - 1, 3):\n",
    "        i_idx = start_idx\n",
    "        v_idx = i_idx + 2\n",
    "        \n",
    "        # get the averages from the data\n",
    "        hold_v = np.mean(axo.data[v_idx][0:ms100])\n",
    "        cond_v = np.mean(axo.data[v_idx][condition0:condition1]) - hold_v\n",
    "        ss_v = np.mean(axo.data[v_idx][test0:test1]) # - hold_v\n",
    "        ss_i = np.mean(axo.data[i_idx][test0:test1])\n",
    "        ii_i = np.min(axo.data[i_idx][testii0:testii1])\n",
    "        \n",
    "        # convert to pA and mV and round to nearest 10\n",
    "        hold_v = round((hold_v * 1000) * 10) / 1\n",
    "        cond_v = round((cond_v * 1000) / 10) * 10\n",
    "        ss_v = round((ss_v * 1000) / 10) * 10\n",
    "        ss_i = float((ss_i * q.A).rescale('nA').magnitude)\n",
    "        ii_i = float((ii_i * q.A).rescale('nA').magnitude)\n",
    "                \n",
    "        results.append({\n",
    "            \"hold_v\": hold_v,\n",
    "            \"file_idx\": idx, \n",
    "            \"conditioning_v\": cond_v,\n",
    "            \"test_steady_state_v\": ss_v,\n",
    "            \"test_steady_state_i\": ss_i,\n",
    "            \"test_init_inward_i\": ii_i,\n",
    "            \"cell\": f[1],\n",
    "            \"type\": f[2]\n",
    "        })\n",
    "\n",
    "df = pd.DataFrame(results)\n",
    "sorted(np.unique(df['conditioning_v']))\n",
    "\n",
    "agg_ss = df[df['conditioning_v'] >= -40]\\\n",
    "    .groupby(['conditioning_v', 'test_steady_state_v', 'type'])\\\n",
    "    .agg([np.mean, stats.sem, 'count'])['test_steady_state_i']\\\n",
    "    .fillna(0)\\\n",
    "    .reset_index()\n",
    "# agg_ss.head()\n",
    "\n",
    "agg_ii = df[df['conditioning_v'] >= -40]\\\n",
    "    .groupby(['conditioning_v', 'test_steady_state_v', 'type'])\\\n",
    "    .agg([np.mean, stats.sem, 'count'])['test_init_inward_i']\\\n",
    "    .fillna(0)\\\n",
    "    .reset_index()\n",
    "agg_ii.head()\n",
    "\n",
    "\n",
    "cv = 'conditioning_v'\n",
    "tv = 'test_steady_state_v'\n",
    "conditioning = [-20, 40]\n",
    "\n",
    "fig, ax = plt.subplots(1, 1, figsize=(2 * GRID_SIZE, GRID_SIZE))\n",
    "\n",
    "l_n_40 = agg_ii[(agg_ii['type'] == 'Laser') & (agg_ii[cv] == conditioning[0]) & (agg_ii[tv] >= -80)]\n",
    "l_40 = agg_ii[(agg_ii['type'] == 'Laser') & (agg_ii[cv] == conditioning[1]) & (agg_ii[tv] >= -80)]\n",
    "\n",
    "nl_n_40 = agg_ii[(agg_ii['type'] == 'No Laser') & (agg_ii[cv] == conditioning[0]) & (agg_ii[tv] >= -80)]\n",
    "nl_40 = agg_ii[(agg_ii['type'] == 'No Laser') & (agg_ii[cv] == conditioning[1]) & (agg_ii[tv] >= -80)]\n",
    "\n",
    "plt.axhline(0, color='k')\n",
    "\n",
    "ax.errorbar(l_n_40[tv]+0.15, l_n_40['mean'], yerr=l_n_40['sem'], linestyle='--', color='r', marker='.', markersize=8, label=f'{conditioning[0] - 60} mV, Light')\n",
    "ax.errorbar(nl_n_40[tv]-0.15, nl_n_40['mean'], yerr=nl_n_40['sem'], marker='.', color='r', markersize=8, label=f'{conditioning[0] - 60} mV, Dark')\n",
    "\n",
    "ax.errorbar(l_40[tv]+0.15, l_40['mean'], yerr=l_40['sem'], linestyle='--', color='k', marker='x', markersize=10, label=f'{conditioning[1] - 60} mV, Light')\n",
    "ax.errorbar(nl_40[tv]-0.15, nl_40['mean'], yerr=nl_40['sem'], marker='x', markersize=10, color='k', label=f'{conditioning[1] - 60} mV, Dark')\n",
    "\n",
    "sns.despine(bottom=True)\n",
    "plt.legend(ncol=2, frameon=False)\n",
    "plt.xlabel('Test Potential (mV)')\n",
    "plt.ylabel('Peak Current (nA)')\n",
    "plt.xlim((-82,22))\n",
    "plt.ylim((-4, 1))\n",
    "\n",
    "plt.tight_layout()"
   ]
  },
  {
   "cell_type": "code",
   "execution_count": 45,
   "metadata": {},
   "outputs": [
    {
     "name": "stdout",
     "output_type": "stream",
     "text": [
      "Comparison of laser on / off at -80 mV - score 0.18, p=0.99\n",
      "Comparison of laser on / off at -20 mV - score 0.10, p=1.00\n"
     ]
    }
   ],
   "source": [
    "ks_results = {}\n",
    "\n",
    "ks_results[conditioning[0]] = {\n",
    "    \"all\": stats.ks_2samp(l_n_40['mean'], nl_n_40['mean']),\n",
    "    \"pre10\": stats.ks_2samp(l_n_40[l_n_40[tv] < 10]['mean'], nl_n_40[nl_n_40[tv] < 10]['mean']),\n",
    "    \"post10\": stats.ks_2samp(l_n_40[l_n_40[tv] >= 10]['mean'], nl_n_40[nl_n_40[tv] >= 10]['mean']),\n",
    "}\n",
    "\n",
    "ks_results[conditioning[1]] = {\n",
    "    \"all\": stats.ks_2samp(l_40['mean'], nl_40['mean']),\n",
    "    \"pre10\": stats.ks_2samp(l_40[l_40[tv] < 10]['mean'], nl_40[nl_40[tv] < 10]['mean']),\n",
    "    \"post10\": stats.ks_2samp(l_40[l_40[tv] >= 10]['mean'], nl_40[nl_40[tv] >= 10]['mean']),\n",
    "}\n",
    "\n",
    "c0 = conditioning[0]\n",
    "c1 = conditioning[1]\n",
    "\n",
    "# ks_results\n",
    "print(f\"Comparison of laser on / off at {c0-60} mV - score {ks_results[c0]['all'].statistic:.2f}, p={ks_results[c0]['all'].pvalue:.2f}\")\n",
    "print(f\"Comparison of laser on / off at {c1-60} mV - score {ks_results[c1]['all'].statistic:.2f}, p={ks_results[c1]['all'].pvalue:.2f}\")"
   ]
  },
  {
   "cell_type": "markdown",
   "metadata": {},
   "source": [
    "## dv/dt threshold"
   ]
  },
  {
   "cell_type": "code",
   "execution_count": 46,
   "metadata": {},
   "outputs": [
    {
     "data": {
      "image/png": "[encoded data removed]",
      "text/plain": [
       "<Figure size 249.449x249.449 with 1 Axes>"
      ]
     },
     "metadata": {
      "needs_background": "light"
     },
     "output_type": "display_data"
    }
   ],
   "source": [
    "dvdt_pairs = []\n",
    "dvdt_pairs_alternate = []\n",
    "\n",
    "ten_ms = int(10 * MS_TO_SAMPLES)\n",
    "\n",
    "for f in DVDT_FILES:\n",
    "    axo = axographio.read(os.path.join(d.BASE_PATH, f[0]))\n",
    "    ramp_lengths = list(range(f[2], f[2] + f[3] * f[4], f[4]))\n",
    "    \n",
    "    for idx, mv_idx in enumerate(range(1, len(axo.names), 2)):\n",
    "        data = axo.data[mv_idx][4000:]\n",
    "\n",
    "        (peaks, _) = find_peaks(data, distance=1000, height=0.003)\n",
    "        \n",
    "        # if no peaks found, get the average gradient across the whole ramp to the end of the ramp\n",
    "        if len(peaks) == 0:\n",
    "            ramp_length = ramp_lengths[idx % len(ramp_lengths)] # in ms\n",
    "            ramp_samples = int(MS_TO_SAMPLES * ramp_length) # ramp length in samples\n",
    "            \n",
    "            # NOTE1: The ramp starts on the 5,000th sample, but we exclude the first 4,000 above.\n",
    "            max_val = data[1000 + ramp_samples] \n",
    "            init = np.mean(axo.data[mv_idx][0:100]) # mean of first 100 samples as baseline\n",
    "            delta = 1000 * (max_val - init)  # delta in mV\n",
    "            \n",
    "            max_idx = np.argmax(data)\n",
    "            \n",
    "            dvdt = (delta) / (SAMPLES_TO_MS * (max_idx - 5000)) # average gradient across the ramp in mV/ms\n",
    "\n",
    "            dvdt_pairs.append((dvdt, data[max_idx] * 1000)) # peak is the maximum value\n",
    "            dvdt_pairs_alternate.append((dvdt, data[max_idx] * 1000)) # peak is the maximum value\n",
    "            continue\n",
    "            \n",
    "        # if we have peaks, loop through each one and find the \n",
    "        # average gradient over the 10ms before the peak started\n",
    "        widths = peak_widths(data, peaks, rel_height=0.1)[2]\n",
    "        for (peak, width) in zip(peaks, widths):\n",
    "            # gradient in the 10ms before the start\n",
    "            peak_start = int(width)\n",
    "            start = data[peak_start - ten_ms]\n",
    "            end = data[peak_start]\n",
    "            delta = 1000 * (end - start)\n",
    "            dvdt = delta / 10 # gradient in mV/ms            \n",
    "            dvdt_pairs.append((dvdt, data[peak] * 1000))\n",
    "            \n",
    "            # gradient over the entire ramp up until the start of the peak\n",
    "            # the first sample when the ramp is on. Actually 5000th in the data, see note1 above\n",
    "            val_at_start = data[1000] \n",
    "            dvdt_pairs_alternate.append((1000*(end - val_at_start) / (SAMPLES_TO_MS * (peak_start - 5000)), data[peak] * 1000))\n",
    "\n",
    "dvdt_pairs = list(zip(*dvdt_pairs))\n",
    "dvdt_pairs_alternate = list(zip(*dvdt_pairs_alternate))\n",
    "\n",
    "fig, ax1 = plt.subplots(1, 1, figsize=(GRID_SIZE, GRID_SIZE))\n",
    "ax1.scatter(dvdt_pairs[0], dvdt_pairs[1], alpha=0.1, facecolor='r')\n",
    "ax1.set_xlim((0, 10))\n",
    "\n",
    "ax1.set_ylabel('Max $V_m$ (mV)')\n",
    "ax1.set_xlabel('$\\\\frac{\\Delta V_m}{\\Delta t}$ ($mV/ms$)')\n",
    "\n",
    "plt.axvline(3, color='#888888', linestyle='--')\n",
    "\n",
    "plt.xticks([0, 3, 5, 10])\n",
    "\n",
    "sns.despine()\n",
    "plt.tight_layout()\n",
    "plt.show()"
   ]
  },
  {
   "cell_type": "code",
   "execution_count": null,
   "metadata": {},
   "outputs": [],
   "source": []
  }
 ],
 "metadata": {
  "anaconda-cloud": {},
  "kernelspec": {
   "display_name": "Python 3",
   "language": "python",
   "name": "python3"
  },
  "language_info": {
   "codemirror_mode": {
    "name": "ipython",
    "version": 3
   },
   "file_extension": ".py",
   "mimetype": "text/x-python",
   "name": "python",
   "nbconvert_exporter": "python",
   "pygments_lexer": "ipython3",
   "version": "3.7.4"
  },
  "latex_envs": {
   "LaTeX_envs_menu_present": true,
   "autoclose": false,
   "autocomplete": true,
   "bibliofile": "biblio.bib",
   "cite_by": "apalike",
   "current_citInitial": 1,
   "eqLabelWithNumbers": true,
   "eqNumInitial": 1,
   "hotkeys": {
    "equation": "Ctrl-E",
    "itemize": "Ctrl-I"
   },
   "labels_anchors": false,
   "latex_user_defs": false,
   "report_style_numbering": false,
   "user_envs_cfg": false
  }
 },
 "nbformat": 4,
 "nbformat_minor": 2
}
